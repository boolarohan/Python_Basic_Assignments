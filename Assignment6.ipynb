{
 "cells": [
  {
   "cell_type": "markdown",
   "id": "0f27c00f-05f0-4bb1-89af-56e8e5e4b14e",
   "metadata": {},
   "source": [
    "# Q.1. What are keywords in python? Using the keyword library, print all the python keywords.\n",
    "\n",
    "# Ans. In Python Keywords are reserved words that have a specific meaning and purpose and used to define the syntax and structure in the language. These keywords cannot be used as variable names, function names or any other identifiers."
   ]
  },
  {
   "cell_type": "code",
   "execution_count": 16,
   "id": "e961e0a6-4954-4582-a457-62a6c26c43c7",
   "metadata": {},
   "outputs": [
    {
     "name": "stdout",
     "output_type": "stream",
     "text": [
      "['False', 'None', 'True', 'and', 'as', 'assert', 'async', 'await', 'break', 'class', 'continue', 'def', 'del', 'elif', 'else', 'except', 'finally', 'for', 'from', 'global', 'if', 'import', 'in', 'is', 'lambda', 'nonlocal', 'not', 'or', 'pass', 'raise', 'return', 'try', 'while', 'with', 'yield']\n",
      "_______________________________________________________\n",
      "\n",
      "False\n",
      "None\n",
      "True\n",
      "and\n",
      "as\n",
      "assert\n",
      "async\n",
      "await\n",
      "break\n",
      "class\n",
      "continue\n",
      "def\n",
      "del\n",
      "elif\n",
      "else\n",
      "except\n",
      "finally\n",
      "for\n",
      "from\n",
      "global\n",
      "if\n",
      "import\n",
      "in\n",
      "is\n",
      "lambda\n",
      "nonlocal\n",
      "not\n",
      "or\n",
      "pass\n",
      "raise\n",
      "return\n",
      "try\n",
      "while\n",
      "with\n",
      "yield\n"
     ]
    }
   ],
   "source": [
    "import keyword\n",
    "\n",
    "# Get all Python keywords\n",
    "keyWords = keyword.kwlist\n",
    "\n",
    "# Prints all Python keywords in a list:\n",
    "print(keyWords)\n",
    "print(\"_______________________________________________________\\n\")\n",
    "\n",
    "# Prints each keyword in a new line:\n",
    "for keyWord in keyWords:\n",
    "    print(keyWord)"
   ]
  },
  {
   "cell_type": "markdown",
   "id": "487a60ea-1757-4f17-ac7c-e787a2b718d0",
   "metadata": {},
   "source": [
    "# Q.2. What are the rules to create variables in python?\n",
    "\n",
    "# Ans. Here are the rules for creating variables in Python:\n",
    "\n",
    "# Variables must start with a letter or an underscore. They can have letters both uppercase and lowercase, digits and underscores (_).\n",
    "\n",
    "# Variable names are  case-sensitive, So variables names as \"age\", \"Age\" and \"AGE\" are treated as different variables.\n",
    "\n",
    "# Variables cannot have the same name as Python keywords or built-in functions.\n",
    "\n",
    "# Excluding underscore special characters such as spaces, symbols, or punctuation marks are not allowed in variable names.\n",
    "\n",
    "# It is good practice to define variable names that are meaningful and describe their purpose which will improve code readability and maintainability.\n",
    "\n",
    "# Python follows the snake_case convention for variable names.\n",
    "# For example: \"my_variable\" and \"number_of_students\"."
   ]
  },
  {
   "cell_type": "code",
   "execution_count": 13,
   "id": "f438363b-e1b8-48dd-9be9-4e2386bc95c0",
   "metadata": {},
   "outputs": [],
   "source": [
    "# Valid variable names:\n",
    "age = 24\n",
    "name = \"Rohan\"\n",
    "my_var = \"Hello\"\n",
    "_count = 10\n",
    "val1 = 22\n",
    "is_valid = True\n",
    "totalAmount = 10000"
   ]
  },
  {
   "cell_type": "code",
   "execution_count": 15,
   "id": "68afdc0e-58e1-4a19-bdc3-3eb6ebf6b906",
   "metadata": {},
   "outputs": [
    {
     "ename": "SyntaxError",
     "evalue": "invalid decimal literal (3788598332.py, line 3)",
     "output_type": "error",
     "traceback": [
      "\u001b[0;36m  Cell \u001b[0;32mIn [15], line 3\u001b[0;36m\u001b[0m\n\u001b[0;31m    1var = 10\u001b[0m\n\u001b[0m    ^\u001b[0m\n\u001b[0;31mSyntaxError\u001b[0m\u001b[0;31m:\u001b[0m invalid decimal literal\n"
     ]
    }
   ],
   "source": [
    "#Invalid variable names:\n",
    "\n",
    "1var = 10\n",
    "my-var = \"Hi\" \n",
    "class = \"private\"\n",
    "$price = 100\n",
    "my variable = 55\n",
    "break = \"break\"\n",
    "def = \"function\""
   ]
  },
  {
   "cell_type": "markdown",
   "id": "39195d92-0334-497f-bab2-6ead1d74c5ab",
   "metadata": {},
   "source": [
    "# Q.3. What are the standards and conventions followed for the nomenclature of variables in python to improve code readability and maintainability?\n",
    "\n",
    "# Ans. In Python, there are several standards and conventions followed for variable naming to improve code readability and maintainability. Here are some commonly accepted practices:\n",
    "\n",
    "# 1. Use descriptive variable names that clearly describe the purpose or meaning of the value they store.\n",
    "\n",
    "# 2. Variable names should be in lowercase letters. For example, count, name, age, etc.\n",
    "\n",
    "# 3. When a variable name consists of multiple words, it's recommended to separate them with underscores which is known as \"snake_case\"\n",
    "# For example: total_count, is_student, user_name, etc.\n",
    "\n",
    "# 4. Avoid using single letter variable names like x, y, and i. While they may be acceptable in certain situations, it's generally better to use more descriptive namesa as it will conveying the purpose of the variable.\n",
    "\n",
    "# 5. Maintain consistency in variable naming throughout the codebase. Using the same naming conventions and styles across your project will ensure uniformity and avoid confusion.\n",
    "\n",
    "# 6. Follow PEP 8 guidelines as it is the official style guide for Python code. It provides recommendations for naming conventions and coding styles. According to PEP 8, variable names should be lowercase with words separated by underscores. It also suggests using descriptive names and avoiding single-character names except for certain cases like loop counters.\n",
    "\n",
    "# 7. Avoid using reserved keywords as variable names. They have special meanings in Python and using them as variable names can lead to syntax errors."
   ]
  },
  {
   "cell_type": "code",
   "execution_count": 1,
   "id": "a45c3bfa-73e9-47e3-8d40-c3d33415ec28",
   "metadata": {},
   "outputs": [],
   "source": [
    "# Examples of variable names following the above conventions:\n",
    "\n",
    "name = \"Rohan\"\n",
    "age = 24\n",
    "is_working_professional = True\n",
    "total_count = 7"
   ]
  },
  {
   "cell_type": "markdown",
   "id": "2d567b9d-1c8b-4ead-ae88-7e838cef506c",
   "metadata": {},
   "source": [
    "# Q.4. What will happen if a keyword is used as a variable name?\n",
    "\n",
    "# Ans. In Python Keywords are reserved words that have a specific meaning and purpose and used to define the syntax and structure in the language. If a keyword is used as a variable name in Python it will result in a syntax error."
   ]
  },
  {
   "cell_type": "code",
   "execution_count": 10,
   "id": "3d36a7be-bade-434b-9202-6b09f2d710e5",
   "metadata": {},
   "outputs": [
    {
     "ename": "SyntaxError",
     "evalue": "invalid syntax (73603488.py, line 1)",
     "output_type": "error",
     "traceback": [
      "\u001b[0;36m  Cell \u001b[0;32mIn [10], line 1\u001b[0;36m\u001b[0m\n\u001b[0;31m    for = 5\u001b[0m\n\u001b[0m        ^\u001b[0m\n\u001b[0;31mSyntaxError\u001b[0m\u001b[0;31m:\u001b[0m invalid syntax\n"
     ]
    }
   ],
   "source": [
    "# Example that demonstrates what happens when a keyword is used as a variable name:\n",
    "for = 5\n",
    "print(for)"
   ]
  },
  {
   "cell_type": "code",
   "execution_count": 11,
   "id": "7d85b92b-913b-4c13-92d4-5d99629b3d90",
   "metadata": {},
   "outputs": [
    {
     "name": "stdout",
     "output_type": "stream",
     "text": [
      "5\n"
     ]
    }
   ],
   "source": [
    "#Right way of declaring a variable name\n",
    "num_variable = 5\n",
    "print(num_variable)"
   ]
  },
  {
   "cell_type": "markdown",
   "id": "8877295d-79fc-4a98-a057-087d812cbba5",
   "metadata": {},
   "source": [
    "# Q.5. For what purpose def keyword is used?\n",
    "\n",
    "# Ans. The \"def\" keyword is use to create user-defined functions in Python and it marks the beginning of a function definition. "
   ]
  },
  {
   "cell_type": "code",
   "execution_count": 6,
   "id": "c34fd576-96ca-4bfe-9e66-1a9d8f8c506c",
   "metadata": {},
   "outputs": [
    {
     "name": "stdout",
     "output_type": "stream",
     "text": [
      "4.235294117647059\n"
     ]
    }
   ],
   "source": [
    "# Syntax example for defining a function\n",
    "def calculateGmean(a, b):\n",
    "    \"\"\"This function when called calculates the geometric mean\n",
    "    for the given input parameters and returns and output\"\"\"\n",
    "    # Function body\n",
    "    # Code to be executed\n",
    "    mean = (a * b)/ (a + b)\n",
    "    # Return statement\n",
    "    return mean\n",
    "\n",
    "a = 9\n",
    "b = 8\n",
    "# Calling the function\n",
    "gmean = calculateGmean(a, b)\n",
    "# Printing the returned output value from the funvtion call\n",
    "print(gmean)"
   ]
  },
  {
   "cell_type": "markdown",
   "id": "057dd65c-c171-4b85-bac8-1c5db74ff959",
   "metadata": {},
   "source": [
    "# Explaining the components of the above function:\n",
    "# \"def\": Indicates the start of a function definition.\n",
    "# \"calculateGmean\": It is the name of the function and we should follow the same naming conventions as variable names.\n",
    "# \"parameters(a, b)\": These are parameters taht can be passed to the function as input to be used for execution. Input parameters are optional fields.\n",
    "# \"\"\"docstring\"\"\": An optional docstring which describes the relevant description of the functions purpose.\n",
    "# Function body: A block of code that defines the behaviour of teh function. It has one or more statements that are indented under the \"def\" statement.\n",
    "# Return statement: The return statement is used to specify the value that the function will output. It is optional and if we dont use it the function will return None by default."
   ]
  },
  {
   "cell_type": "markdown",
   "id": "e837d4f8-fd8d-41e6-97a0-b872fe9ffd7e",
   "metadata": {},
   "source": [
    "# Q.6. What is the operation of this special character ‘\\’?\n",
    "\n",
    "# Ans. The special character \"\\\" in Python is called the \"backslash\" or \"escape character\". It is used to perform various operations and represent certain characters that have special meanings within strings and other contexts. Here are some common uses of the backslash in Python:\n",
    "\n",
    "# 1.Escape Sequences: The backslash is used to escape special characters within strings. For example:\n",
    "# '\\\"' represents a double quote within a string.\n",
    "# '\\'' represents a single quote within a string.\n",
    "# '\\\\' represents a literal backslash within a string."
   ]
  },
  {
   "cell_type": "code",
   "execution_count": 19,
   "id": "e99dfa80-f56b-41ea-b729-d89ab1fecb12",
   "metadata": {},
   "outputs": [
    {
     "name": "stdout",
     "output_type": "stream",
     "text": [
      "backslash: \\\n",
      "\"Hello!\"\n",
      "He's Rohan.\n"
     ]
    }
   ],
   "source": [
    "# Example for Escape Sequences\n",
    "print(\"backslash: \\\\\") # Backslash \n",
    "print(\"\\\"Hello!\\\"\") # Single Quote\n",
    "print('He\\'s Rohan.') # Double Quote"
   ]
  },
  {
   "cell_type": "markdown",
   "id": "da49dce9-d41e-4763-b409-97e07951bdb4",
   "metadata": {},
   "source": [
    "# 2.Newlines and Line Continuation: The backslash can be used to create multi-line strings or continue long lines of code.\n",
    "\n",
    "# '\\n' represents a newline character, creating a line break.\n",
    "# '\\' at the end of a line indicates the line continuation, allowing you to split long lines of code into multiple lines."
   ]
  },
  {
   "cell_type": "code",
   "execution_count": 20,
   "id": "ce3d33c6-ca4f-434b-b624-93c8c11ddcd0",
   "metadata": {},
   "outputs": [
    {
     "name": "stdout",
     "output_type": "stream",
     "text": [
      "Hello\n",
      "World!\n",
      "This is a very long line of code that is split              into multiple lines for readability.\n",
      "Name:\tRohan\n"
     ]
    }
   ],
   "source": [
    "# Example for Newlines and Line Continuation\n",
    "print(\"Hello\\nWorld!\") # Newline\n",
    "long_line = \"This is a very long line of code that is split \\\n",
    "             into multiple lines for readability.\"\n",
    "print(long_line)"
   ]
  },
  {
   "cell_type": "markdown",
   "id": "ab55953e-1097-43a6-b93c-a020474a48d8",
   "metadata": {},
   "source": [
    "# 3.Special Characters: The backslash can be used to represent special characters that have a specific meaning.\n",
    "\n",
    "# '\\t' represents a horizontal tab character.\n",
    "# '\\r' represents a carriage return character.\n",
    "# '\\b' represents a backspace character.\n",
    "# '\\f' represents a form feed character."
   ]
  },
  {
   "cell_type": "code",
   "execution_count": 22,
   "id": "bd5496bd-da7b-42e7-adbe-08fa31631253",
   "metadata": {},
   "outputs": [
    {
     "name": "stdout",
     "output_type": "stream",
     "text": [
      "Name:\tRohan\n",
      "Done!ng...\n",
      "HellWorld!\n",
      "Hello\f",
      "World!\n"
     ]
    }
   ],
   "source": [
    "# Example for Special Characters\n",
    "print(\"Name:\\tRohan\") # Tab space\n",
    "print(\"Loading...\\rDone!\") # Carriage Return\n",
    "print(\"Hello\\bWorld!\") # Backspace\n",
    "print(\"Hello\\fWorld!\") # Form Feed"
   ]
  },
  {
   "cell_type": "markdown",
   "id": "91f2d8c3-ec97-4583-b9f9-d37e310e57ee",
   "metadata": {},
   "source": [
    "# Q.7. Give an example of the following conditions:\n",
    "# (i)Homogeneous list(ii)Heterogeneous set(iii)Homogeneous tuple\n",
    "\n",
    "# Ans. (i)Homogeneous list: A homogeneous list in Python is a list that contains elements of the same data type."
   ]
  },
  {
   "cell_type": "code",
   "execution_count": 14,
   "id": "7ebd76fc-92fc-497a-8ba8-9a97cf345ab1",
   "metadata": {},
   "outputs": [
    {
     "data": {
      "text/plain": [
       "'The above list contains only integer values\\nwhich makes it a homogeneous list.'"
      ]
     },
     "execution_count": 14,
     "metadata": {},
     "output_type": "execute_result"
    }
   ],
   "source": [
    "# Example of a homogeneous list\n",
    "num = [1, 2, 3, 4, 5]\n",
    "\"\"\"The above list contains only integer values\n",
    "which makes it a homogeneous list.\"\"\""
   ]
  },
  {
   "cell_type": "markdown",
   "id": "67a38d1c-0b93-4be3-9acb-7d17990c023c",
   "metadata": {},
   "source": [
    "# (ii) Heterogeneous set: A heterogeneous set in Python is a set that contains elements of different data types."
   ]
  },
  {
   "cell_type": "code",
   "execution_count": 13,
   "id": "4b8f0859-34c2-472f-b527-9d12c59eaabb",
   "metadata": {},
   "outputs": [
    {
     "data": {
      "text/plain": [
       "'The above set includes elements of different data types\\nwhich are string, integer and a floating-point number.'"
      ]
     },
     "execution_count": 13,
     "metadata": {},
     "output_type": "execute_result"
    }
   ],
   "source": [
    "# Example of a heterogeneous set\n",
    "hetro_set = {\"rohan\", 5, 3.14}\n",
    "\"\"\"The above set includes elements of different data types\n",
    "which are string, integer and a floating-point number.\"\"\""
   ]
  },
  {
   "cell_type": "markdown",
   "id": "2d0d5e85-baff-421e-9a69-24fa711fca67",
   "metadata": {},
   "source": [
    "# (iii) Homogeneous tuple: A homogeneous tuple in Python is a tuple that contains elements of the same data type."
   ]
  },
  {
   "cell_type": "code",
   "execution_count": 15,
   "id": "a74e0c79-9c35-4199-afc1-d0d60bd15a4c",
   "metadata": {},
   "outputs": [
    {
     "data": {
      "text/plain": [
       "'the tuple fruit consists of only string values\\nmaking it a homogeneous tuple.'"
      ]
     },
     "execution_count": 15,
     "metadata": {},
     "output_type": "execute_result"
    }
   ],
   "source": [
    "# Example of a homogeneous tuple\n",
    "fruits = (\"apple\", \"banana\", \"orange\")\n",
    "\"\"\"the tuple fruit consists of only string values\n",
    "making it a homogeneous tuple.\"\"\""
   ]
  },
  {
   "cell_type": "markdown",
   "id": "9f6137a5-569e-4829-a6d8-a9c87ac2da60",
   "metadata": {},
   "source": [
    "# Q.8. Explain the mutable and immutable data types with proper explanation & examples.\n",
    "\n",
    "# Ans. In Python, data types can be classified as mutable or immutable based on whether their values can be changed after they are created.\n",
    "\n",
    "# 1.Mutable data types: Mutable data types are those whose values can be modified after they are created. This means that you can change individual elements of a mutable object without creating a new object. Examples of mutable data types in Python are lists, sets, and dictionaries. However it is important to know that it can lead to unexpected behavior if multiple variables reference the same mutable object."
   ]
  },
  {
   "cell_type": "code",
   "execution_count": 9,
   "id": "a49821c1-a6df-43ea-954a-c57d094aeda8",
   "metadata": {},
   "outputs": [
    {
     "name": "stdout",
     "output_type": "stream",
     "text": [
      "[7, 6, 3]\n"
     ]
    }
   ],
   "source": [
    "# Example of a mutable data type:\n",
    "num = [7, 6, 1]\n",
    "num[2] = 3\n",
    "print(num)\n",
    "\n",
    "\"\"\"In the above example the value of the list numbers\n",
    "is modified by assigning a new value to the third element\n",
    "using indexing.\"\"\""
   ]
  },
  {
   "cell_type": "markdown",
   "id": "e1a71364-0cd2-485e-8534-b06766ca2b9b",
   "metadata": {},
   "source": [
    "# 2.Immutable data types: Immutable data types are those whose values cannot be changed after they are created. Whenever you perform an operation to modify an immutable object a new object is created with the modified value and the original object remains unchanged. Examples of immutable data types in Python are int, float, strings, tuples."
   ]
  },
  {
   "cell_type": "code",
   "execution_count": 11,
   "id": "70bbd8d7-8716-4250-9a6c-ea4d16a884ed",
   "metadata": {},
   "outputs": [
    {
     "name": "stdout",
     "output_type": "stream",
     "text": [
      "(0, 13)\n"
     ]
    },
    {
     "data": {
      "text/plain": [
       "'Tuples are immutable collections in Python.\\nAlthough you cannot modify the elements of a tuple directly\\nyou can create new tuples by combining or modifying elements\\nfrom existing tuples.'"
      ]
     },
     "execution_count": 11,
     "metadata": {},
     "output_type": "execute_result"
    }
   ],
   "source": [
    "# Example of a immutable data type:\n",
    "#Creating a tuple\n",
    "numbers = (2, 3)\n",
    "\n",
    "#Modifying the tuple\n",
    "new_numbers = (numbers[0] - 2, numbers[1] + 10)\n",
    "print(new_numbers)\n",
    "\n",
    "\"\"\"Tuples are immutable collections in Python.\n",
    "Although you cannot modify the elements of a tuple directly\n",
    "you can create new tuples by combining or modifying elements\n",
    "from existing tuples.\"\"\""
   ]
  },
  {
   "cell_type": "markdown",
   "id": "581ccceb-8d05-4232-98ff-96df6b795c4f",
   "metadata": {},
   "source": [
    "# Q.9. Write a code to create the given structure using only for loop.\n",
    "#     *\n",
    "#    ***\n",
    "#   *****\n",
    "#  *******\n",
    "# *********"
   ]
  },
  {
   "cell_type": "code",
   "execution_count": 2,
   "id": "01cb99ed-d755-4a96-88a6-58d6b6e34aca",
   "metadata": {},
   "outputs": [
    {
     "name": "stdout",
     "output_type": "stream",
     "text": [
      "    *\n",
      "   ***\n",
      "  *****\n",
      " *******\n",
      "*********\n"
     ]
    }
   ],
   "source": [
    "rows = 5\n",
    "\n",
    "for i in range(rows):\n",
    "    # Print spaces before satrs\n",
    "    for j in range(rows - i - 1):\n",
    "        print(\" \", end = \"\")\n",
    "    # Print stars after spaces \n",
    "    for k in range(2 * i + 1):\n",
    "        print(\"*\", end = \"\")\n",
    "    # Moves to next line after printing spaces and stars in each row\n",
    "    print()\n"
   ]
  },
  {
   "cell_type": "markdown",
   "id": "6e62934c-457e-4874-88fb-cc4102fafc9b",
   "metadata": {},
   "source": [
    "# Q.10. Write a code to create the given structure using while loop.\n",
    "# |||||||||\n",
    "#  |||||||\n",
    "#   |||||\n",
    "#    |||\n",
    "#     |"
   ]
  },
  {
   "cell_type": "code",
   "execution_count": 7,
   "id": "b22cb747-5702-44e5-8568-134ffe8beb97",
   "metadata": {},
   "outputs": [
    {
     "name": "stdout",
     "output_type": "stream",
     "text": [
      "|||||||||\n",
      " |||||||\n",
      "  |||||\n",
      "   |||\n",
      "    |\n"
     ]
    }
   ],
   "source": [
    "rows = 5\n",
    "current_row = 0\n",
    "\n",
    "while current_row < rows:\n",
    "    # Print spaces before lines\n",
    "    spaces = current_row\n",
    "    while spaces > 0:\n",
    "        print(\" \", end = \"\")\n",
    "        spaces -= 1\n",
    "    \n",
    "    # Print lines after spaces\n",
    "    lines = 2 * (rows - current_row) - 1\n",
    "    while lines > 0:\n",
    "        print(\"|\", end = \"\")\n",
    "        lines -= 1\n",
    "        \n",
    "    # Moves to next line after printing spaces and lines in each row\n",
    "    print()\n",
    "    current_row += 1"
   ]
  }
 ],
 "metadata": {
  "kernelspec": {
   "display_name": "Python 3 (ipykernel)",
   "language": "python",
   "name": "python3"
  },
  "language_info": {
   "codemirror_mode": {
    "name": "ipython",
    "version": 3
   },
   "file_extension": ".py",
   "mimetype": "text/x-python",
   "name": "python",
   "nbconvert_exporter": "python",
   "pygments_lexer": "ipython3",
   "version": "3.10.6"
  }
 },
 "nbformat": 4,
 "nbformat_minor": 5
}
