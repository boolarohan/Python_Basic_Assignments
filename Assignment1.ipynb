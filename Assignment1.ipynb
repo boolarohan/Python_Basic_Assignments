{
 "cells": [
  {
   "cell_type": "markdown",
   "id": "689c0ae7-c211-4229-b48b-fdce1cf63bc5",
   "metadata": {
    "tags": []
   },
   "source": [
    "# 1. In the below elements which of them are values or an expression? eg:- values can be integer or string and expressions will be mathematical operators.\n",
    "# * \n",
    "# 'hello'\n",
    "# -87.8\n",
    "# - \n",
    "# / \n",
    "# +\n",
    "# 6 \n",
    "\n",
    "# Ans.Values:\n",
    "#         \"hello\" (string value)\n",
    "#         -87.8 (floatinf-point number value)\n",
    "#         6 (integer value)\n",
    "#     Expressions:\n",
    "#         + (Addition operator)\n",
    "#         - (Subtraction operator)\n",
    "#         * (Multiplication operator)\n",
    "#         / (Division operator)"
   ]
  },
  {
   "cell_type": "markdown",
   "id": "78e7a819-b121-4198-b976-6262f897b71a",
   "metadata": {},
   "source": [
    "# 2. What is the difference between string and variable?\n",
    "\n",
    "# Ans. String: A string is data type used to represent text or sequence or characters which are enclosed within quote both singlr quotes and double quotes are valid in Python. Strings can be used to store and manipulate text data. Strings can have letters, numbers, symbols, whitespaces."
   ]
  },
  {
   "cell_type": "code",
   "execution_count": 1,
   "id": "8dcfd399-9dab-47d5-9622-903763ec120b",
   "metadata": {},
   "outputs": [
    {
     "name": "stdout",
     "output_type": "stream",
     "text": [
      "Hi, World!!!\n",
      "6556561\n"
     ]
    }
   ],
   "source": [
    "# Examples od Strings:\n",
    "print(\"Hi, World!!!\")\n",
    "print(\"6556561\")"
   ]
  },
  {
   "cell_type": "markdown",
   "id": "2534688f-10ac-47dd-9927-b23ffd2b5481",
   "metadata": {},
   "source": [
    "# Variables: A variabele is a named storage location with holds a value in computer memory. Every variable has a name so that they can be uniquely identified and a value that represents the data stored in them. Variables can store different types of data which includes integer, string, boolean etc. We can also reassign a new value to a variable while executing a program."
   ]
  },
  {
   "cell_type": "code",
   "execution_count": 10,
   "id": "02c9d325-7196-4ad8-88ee-74397596ec79",
   "metadata": {},
   "outputs": [
    {
     "name": "stdout",
     "output_type": "stream",
     "text": [
      "Rohan\n",
      "24\n",
      "True\n",
      "------------------------------------------------------------\n",
      "Shiva\n",
      "19\n",
      "False\n"
     ]
    }
   ],
   "source": [
    "# Examples of Variables\n",
    "name = \"Rohan\" # variable with string data type\n",
    "print(name)\n",
    "age = 24 # variable with integer data type\n",
    "print(age)\n",
    "is_Working_Professional = True # variable with boolean data type\n",
    "print(is_Working_Professional)\n",
    "\n",
    "print(\"------------------------------------------------------------\")\n",
    "\n",
    "# Ressigining or Updating the value of the above variables\n",
    "name = \"Shiva\" # variable with string data type\n",
    "print(name)\n",
    "age = 19 # variable with integer data type\n",
    "print(age)\n",
    "is_Working_Professional = False # variable with boolean data type\n",
    "print(is_Working_Professional)"
   ]
  },
  {
   "cell_type": "markdown",
   "id": "1be4fb9b-df04-4d1a-8a8e-2c7ad196d95e",
   "metadata": {},
   "source": [
    "# 3. Describe three different data types.\n",
    "\n",
    "# Ans. Python has many data types to handle different types of data. Here are three commonly used data type:\n",
    "\n",
    "# Integer(int): The integer data type represents whole numbers. It can be positive, negative or zero. It cannot have any decimal part."
   ]
  },
  {
   "cell_type": "code",
   "execution_count": 13,
   "id": "a8d76914-77df-49d6-8c5a-34e06468ffd6",
   "metadata": {},
   "outputs": [
    {
     "name": "stdout",
     "output_type": "stream",
     "text": [
      "24\n",
      "<class 'int'>\n"
     ]
    }
   ],
   "source": [
    "# Integer example\n",
    "age = 24\n",
    "print(age)\n",
    "#The function can be used to identify the datatype of a variable\n",
    "print(type(age))"
   ]
  },
  {
   "cell_type": "markdown",
   "id": "6e1da721-57ca-4041-8071-8ec686221d24",
   "metadata": {},
   "source": [
    "# String(str): The string data type is a sequence of characters. Strings are enclosed within quotes (single or double) and can contain letters, numbers, symbols, and whitespace."
   ]
  },
  {
   "cell_type": "code",
   "execution_count": 16,
   "id": "6d1ec818-cd6b-4e36-abdd-bf6c9695ae61",
   "metadata": {},
   "outputs": [
    {
     "name": "stdout",
     "output_type": "stream",
     "text": [
      "Rohan\n",
      "<class 'str'>\n"
     ]
    }
   ],
   "source": [
    "# Integer example\n",
    "name = \"Rohan\"\n",
    "print(name)\n",
    "#The function can be used to identify the datatype of a variable\n",
    "print(type(name))"
   ]
  },
  {
   "cell_type": "markdown",
   "id": "36e8fca4-6f8c-4383-b66e-1b94b7d4424c",
   "metadata": {},
   "source": [
    "# Boolean (bool): The boolean data type represents a value that can be either True or False. Booleans are used for logical operations and conditional statements."
   ]
  },
  {
   "cell_type": "code",
   "execution_count": 17,
   "id": "0c0bdc15-cc7f-45fb-9951-9d8da2acddca",
   "metadata": {},
   "outputs": [
    {
     "name": "stdout",
     "output_type": "stream",
     "text": [
      "True\n",
      "<class 'bool'>\n"
     ]
    }
   ],
   "source": [
    "# Boolean example\n",
    "is_Working_Professional = True\n",
    "print(is_Working_Professional)\n",
    "#The function can be used to identify the datatype of a variable\n",
    "print(type(is_Working_Professional))"
   ]
  },
  {
   "cell_type": "markdown",
   "id": "f6e6df92-7f60-4a11-82f7-0ff991c80b52",
   "metadata": {
    "tags": []
   },
   "source": [
    "# 4. What is an expression made up of? What do all expressions do?\n",
    "\n",
    "# Ans. An expression is made up of one or more values, variables, operators, and function calls combined together to produce a new value. It can be as simple as a single value or as complex as a combination of multiple elements. Expressions are used to perform computations, make comparisons, and produce results in a program.Here are a few examples of expressions:"
   ]
  },
  {
   "cell_type": "code",
   "execution_count": null,
   "id": "e9583a25-acb6-4ce1-8fb1-d66ac672cacc",
   "metadata": {},
   "outputs": [
    {
     "name": "stdout",
     "output_type": "stream",
     "text": [
      "7\n"
     ]
    }
   ],
   "source": [
    "# Arithmetic expression:\n",
    "# Expression combines values with the addition and multiplication operators\n",
    "# to calculate the result.\n",
    "result = 1 + 2 *3\n",
    "print(result)"
   ]
  },
  {
   "cell_type": "code",
   "execution_count": 19,
   "id": "668b1af2-de93-4732-80a9-215787110265",
   "metadata": {},
   "outputs": [
    {
     "name": "stdout",
     "output_type": "stream",
     "text": [
      "Hi World!\n"
     ]
    }
   ],
   "source": [
    "# String concatenation expression:\n",
    "# Expression combines two string values using the concatenation operator\n",
    "#to create a new string \n",
    "string = \"Hi \" + \"World!\"\n",
    "print(string)"
   ]
  },
  {
   "cell_type": "code",
   "execution_count": 20,
   "id": "b6601728-91ee-412e-8639-c18d1b57cf2d",
   "metadata": {},
   "outputs": [
    {
     "name": "stdout",
     "output_type": "stream",
     "text": [
      "False\n"
     ]
    }
   ],
   "source": [
    "# Comparison expression:\n",
    "# Expression uses the equality operator\n",
    "# to compare two values and returns a boolean value\n",
    "is_equal = (12 == 5)\n",
    "print(is_equal)"
   ]
  },
  {
   "cell_type": "markdown",
   "id": "1edf055e-3e48-417e-82b1-6baec1b265ca",
   "metadata": {},
   "source": [
    "# 5. This assignment statements, like spam = 10. What is the difference between an expression and a statement?\n",
    "\n",
    "# Ans. Expression: An expression is a combination of values, variables, operators, and function calls that evaluates to s simple as a single value or as complex as a combination of multiple elements. Expressions can be used in various contexts, such as assignments, calculations, comparisons, or as arguments to functions."
   ]
  },
  {
   "cell_type": "code",
   "execution_count": 31,
   "id": "e83b5003-907e-40f6-95b1-1827e115e172",
   "metadata": {},
   "outputs": [
    {
     "name": "stdout",
     "output_type": "stream",
     "text": [
      "17 12 34\n"
     ]
    }
   ],
   "source": [
    "# Examples of expressions:\n",
    "\n",
    "x = 17\n",
    "add = 7 + 5\n",
    "mul = x * 2\n",
    "print(x, add, mul)"
   ]
  },
  {
   "cell_type": "markdown",
   "id": "7d66acd2-3b2b-42ca-ab89-8a74f1ef3c09",
   "metadata": {},
   "source": [
    "# Statement: A statement is a complete unit of code that performs an action or a sequence of actions. Statements are used to control the flow of execution, define behavior or perform tasks in a program."
   ]
  },
  {
   "cell_type": "code",
   "execution_count": 29,
   "id": "2f0ff783-ea2c-4f42-8cc1-036323ccf0cd",
   "metadata": {},
   "outputs": [
    {
     "name": "stdout",
     "output_type": "stream",
     "text": [
      "R\n",
      "o\n",
      "h\n",
      "a\n",
      "n\n"
     ]
    }
   ],
   "source": [
    "# Examples of statements:\n",
    "# Assignment statement: \n",
    "spam = 10\n",
    "name = \"Rohan\"\n",
    "#Conditional statement:\n",
    "if spam > 0:\n",
    "#Looping statement:\n",
    "    for i in name:\n",
    "        print(i)\n"
   ]
  },
  {
   "cell_type": "markdown",
   "id": "8aeb9875-399c-4251-9256-0f1be7c073ad",
   "metadata": {},
   "source": [
    "# 6. After running the following code, what does the variable bacon contain?\n",
    "# bacon = 22\n",
    "# bacon + 1\n",
    "\n",
    "# Ans. bacon will still have the value 22 because in line number 2 it is doing the addition operation but is not storing it back in bacon so the value in bacon will remain the same."
   ]
  },
  {
   "cell_type": "code",
   "execution_count": 27,
   "id": "69b9f164-7221-466f-b95d-be85e7fe30ca",
   "metadata": {},
   "outputs": [
    {
     "name": "stdout",
     "output_type": "stream",
     "text": [
      "22\n"
     ]
    }
   ],
   "source": [
    "bacon = 22\n",
    "bacon + 1\n",
    "print(bacon)"
   ]
  },
  {
   "cell_type": "markdown",
   "id": "47dfbf11-b4b9-46af-8f05-9dc80e40accc",
   "metadata": {},
   "source": [
    "# 7. What should the values of the following two terms be?\n",
    "# 'spam' + 'spamspam'\n",
    "# 'spam' * 3\n",
    "\n",
    "# Ans. Both the terms return the same value 'spamspamspam'. The '+' operator concatenates two strings together where as the '*' operator repeats the string specified number of time."
   ]
  },
  {
   "cell_type": "code",
   "execution_count": 2,
   "id": "92d0fdc7-65a8-4379-b573-c47b8ce66396",
   "metadata": {},
   "outputs": [
    {
     "name": "stdout",
     "output_type": "stream",
     "text": [
      "spamspamspam\n"
     ]
    }
   ],
   "source": [
    "'spam' + 'spamspam'"
   ]
  },
  {
   "cell_type": "code",
   "execution_count": 3,
   "id": "02acb5cd-ee5a-4123-868b-c67295c675b2",
   "metadata": {},
   "outputs": [
    {
     "data": {
      "text/plain": [
       "'spamspamspam'"
      ]
     },
     "execution_count": 3,
     "metadata": {},
     "output_type": "execute_result"
    }
   ],
   "source": [
    "'spam' * 3"
   ]
  },
  {
   "cell_type": "markdown",
   "id": "e875f036-70f6-4ccd-b2f4-1bdda6e024a5",
   "metadata": {},
   "source": [
    "# 8. Why is eggs a valid variable name while 100 is invalid?\n",
    "\n",
    "# Ans. In Python variable names have certain rules. One of the rules is that a variable name cannot start with a number that is why \"eggs\" is a valid variable name while \"100\" is invalid. To make it a valid variable name start it with a letter or underscore, such as \"_100\" or \"num100\".\n",
    "\n",
    "# Valid variable names:\n",
    "# age\n",
    "# name\n",
    "# my_var\n",
    "# _count\n",
    "# a1\n",
    "# is_valid\n",
    "# totalAmount\n",
    "\n",
    "# Invalid variable names:\n",
    "\n",
    "# 1var\n",
    "# my-var\n",
    "# class\n",
    "# $price\n",
    "# my variable\n",
    "# break\n",
    "# def"
   ]
  },
  {
   "cell_type": "markdown",
   "id": "0369009b-1c4a-4ac1-b480-aeae167df7de",
   "metadata": {},
   "source": [
    "# 9. What three functions can be used to get the integer, floating-point number, or string version of a value?\n",
    "\n",
    "# Ans. Following three functions to get the integer, floating-point number, or string version of a value:\n",
    "# int(): This function converts a value to an integer. It takes in a numeric value or string representation of a number as input and returns an integer."
   ]
  },
  {
   "cell_type": "code",
   "execution_count": 25,
   "id": "408f385a-c66a-4285-9539-3fd97da180b4",
   "metadata": {},
   "outputs": [
    {
     "name": "stdout",
     "output_type": "stream",
     "text": [
      "250\n",
      "<class 'int'>\n"
     ]
    }
   ],
   "source": [
    "# Converts the string \"250\" to an integer.\n",
    "value =  int(\"250\")\n",
    "print(value)\n",
    "print(type(value))"
   ]
  },
  {
   "cell_type": "markdown",
   "id": "9d9b68bc-7365-4739-9a64-872b001c3917",
   "metadata": {},
   "source": [
    "# float(): This function converts a value to a floating-point number. It takes in a numeric value or string representation of a number as input and returns a floating-point number."
   ]
  },
  {
   "cell_type": "code",
   "execution_count": 20,
   "id": "b09c1d70-3dae-40a7-86bb-2a0aec5f6ba6",
   "metadata": {},
   "outputs": [
    {
     "name": "stdout",
     "output_type": "stream",
     "text": [
      "250.85\n",
      "250.0\n",
      "250.0\n",
      "<class 'float'> <class 'float'> <class 'float'>\n"
     ]
    }
   ],
   "source": [
    "# Converts the string \"250\" to an integer.\n",
    "value =  float(\"250.85\")\n",
    "value1 =  float(\"250\")\n",
    "value2 =  float(250)\n",
    "print(value)\n",
    "print(value1)\n",
    "print(value2)\n",
    "print(type(value), type(value1), type(value2))"
   ]
  },
  {
   "cell_type": "markdown",
   "id": "68777789-34cb-4bc2-8429-10470e63646b",
   "metadata": {},
   "source": [
    "# str(): This function converts a value to a string. It takes in any value as input and returns a string representation of it."
   ]
  },
  {
   "cell_type": "code",
   "execution_count": 26,
   "id": "ffc0b727-d485-4b7a-b893-501d4d4b9d3a",
   "metadata": {},
   "outputs": [
    {
     "name": "stdout",
     "output_type": "stream",
     "text": [
      "222\n",
      "<class 'str'>\n"
     ]
    }
   ],
   "source": [
    "# Converts the string \"250\" to an integer.\n",
    "value =  str(222)\n",
    "print(value)\n",
    "print(type(value))"
   ]
  },
  {
   "cell_type": "markdown",
   "id": "f48da430-5918-434d-98f3-e8a11f16d38b",
   "metadata": {},
   "source": [
    "# 10. Why does this expression cause an error? How can you fix it?\n",
    "# 'I have eaten ' + 99 + ' burritos.'\n",
    "\n",
    "# Ans.In Python concatination can only be done between strings. The above\n",
    "# expression causes an error beacuse we are concatenating a string with an\n",
    "# integer.\n",
    "\n",
    "# We can convert thr integer into a string using 'str()' function before\n",
    "# concatenation:"
   ]
  },
  {
   "cell_type": "code",
   "execution_count": 5,
   "id": "9151d8cc-36a0-4009-a3f3-12ea1fa96ca2",
   "metadata": {},
   "outputs": [
    {
     "data": {
      "text/plain": [
       "'I have eaten 99 burritos.'"
      ]
     },
     "execution_count": 5,
     "metadata": {},
     "output_type": "execute_result"
    }
   ],
   "source": [
    "'I have eaten ' + str(99) + ' burritos.'"
   ]
  }
 ],
 "metadata": {
  "kernelspec": {
   "display_name": "Python 3 (ipykernel)",
   "language": "python",
   "name": "python3"
  },
  "language_info": {
   "codemirror_mode": {
    "name": "ipython",
    "version": 3
   },
   "file_extension": ".py",
   "mimetype": "text/x-python",
   "name": "python",
   "nbconvert_exporter": "python",
   "pygments_lexer": "ipython3",
   "version": "3.10.6"
  }
 },
 "nbformat": 4,
 "nbformat_minor": 5
}
