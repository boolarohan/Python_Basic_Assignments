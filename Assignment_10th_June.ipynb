{
 "cells": [
  {
   "cell_type": "markdown",
   "id": "324fa527-b75c-483a-93d4-dc71e7a5a88b",
   "metadata": {},
   "source": [
    "1. In Python, what is the difference between a built-in function and a user-defined function? Provide an example of each.\n",
    "\n",
    "Ans. (i). Built-in functions: Built-in functions are pre-defined functions that are included in the Python and are part of the Python standard library which covers a wide range of tasks like mathematical operations, string manipilations and more. These functions are readily available for use without any additional code or import statements."
   ]
  },
  {
   "cell_type": "code",
   "execution_count": 5,
   "id": "b3ccc8e5-027a-47bd-85b9-321f371eb97a",
   "metadata": {},
   "outputs": [
    {
     "name": "stdout",
     "output_type": "stream",
     "text": [
      "5\n",
      "<class 'int'>\n",
      "10 10 10.0\n"
     ]
    }
   ],
   "source": [
    "# Example of a built-in function\n",
    "\n",
    "\"\"\"The 'len()' function is a built-in function used to\n",
    "determine the length of an object, such as a string, list,\n",
    "or tuple. Where as teh 'print()' function prints the specified\n",
    "values or variables to the console.\"\"\"\n",
    "\n",
    "name = \"Rohan\"\n",
    "length = len(name)\n",
    "print(length)\n",
    "# The 'type()' function returns the type of an object.\n",
    "print(type(length))\n",
    "\n",
    "\"\"\"'int()', 'float()' and 'str()' functions convert a value\n",
    "to an integer, float, or string, respectively.\"\"\"\n",
    "\n",
    "str_num = \"10\"\n",
    "int_num = int(str_num)\n",
    "float_num = float(str_num)\n",
    "print(str_num, int_num, float_num)"
   ]
  },
  {
   "cell_type": "markdown",
   "id": "0fda5380-0a86-4eef-8102-b08d3ee0d3ce",
   "metadata": {},
   "source": [
    "(ii). User-defined functions: User-defined functions are created by the programmer to perform specific tasks as per their requirements. You can define your own functions by using the def keyword followed by a function name, parameter list (if any), and the block of code that forms the function body. These functions allow for code reusability."
   ]
  },
  {
   "cell_type": "code",
   "execution_count": 2,
   "id": "2b96479d-bfcb-42d9-a86f-b5f07ec2b62b",
   "metadata": {},
   "outputs": [
    {
     "name": "stdout",
     "output_type": "stream",
     "text": [
      "25\n"
     ]
    }
   ],
   "source": [
    "# Example of a user-defined function\n",
    "\n",
    "\"\"\"The following code defines a user-defined function called\n",
    "calculate_square() that takes a number as input and returns\n",
    "its square\"\"\"\n",
    "def calculate_square(num):\n",
    "    square = num * num\n",
    "    return square\n",
    "\n",
    "result = calculate_square(5)\n",
    "print(result)"
   ]
  },
  {
   "cell_type": "markdown",
   "id": "cad0dc0f-8eb7-4032-a66e-30ecf13d50f9",
   "metadata": {},
   "source": [
    "2. How can you pass arguments to a function in Python? Explain the difference between positional arguments and keyword arguments.\n",
    "\n",
    "Ans. In Python, you can pass arguments to a function in three different ways:\n",
    "\n",
    "(i) Positional arguments: Positional arguments are passed to a function based on their position or order. The arguments are matched with the parameters of the function in the same order. The number of arguments passed must match the number of parameters defined in the function."
   ]
  },
  {
   "cell_type": "code",
   "execution_count": 4,
   "id": "ed5e3fc9-90d1-49e9-99da-6f90490ec575",
   "metadata": {},
   "outputs": [
    {
     "name": "stdout",
     "output_type": "stream",
     "text": [
      "Hello Rohan\n",
      "Your age is 24\n"
     ]
    }
   ],
   "source": [
    "# Example for Positional arguments\n",
    "def greeting(name, age):\n",
    "    print(\"Hello\", name)\n",
    "    print(\"Your age is\", age)\n",
    "\n",
    "# When calling the function \"greeting\", the arguments \"Rohan\" and 24 are passed in the same order as the parameters.\n",
    "greeting(\"Rohan\", 24)"
   ]
  },
  {
   "cell_type": "markdown",
   "id": "5acb55c0-b925-48c4-8cda-485ee496fb34",
   "metadata": {},
   "source": [
    "(ii) Keyword arguments: Keyword arguments are passed to a function using the parameter name explicitly. This allows you to specify the arguments in any order, regardless of their position. When using keyword arguments, you can omit some arguments or provide default values for parameters."
   ]
  },
  {
   "cell_type": "code",
   "execution_count": null,
   "id": "96317341-72cc-4663-ae61-3f809c0c6a89",
   "metadata": {},
   "outputs": [],
   "source": [
    "# Example for Keyword arguments\n",
    "def greeting(name, age):\n",
    "    print(\"Hello\", name)\n",
    "    print(\"Your age is\", age)\n",
    "\n",
    "# The order of the arguments doesn't matter because they are explicitly associated with the corresponding parameter names.\n",
    "greeting(age=25, name=\"Rohan\")"
   ]
  },
  {
   "cell_type": "markdown",
   "id": "c762da4a-af1f-4b7d-806b-5002072bd974",
   "metadata": {},
   "source": [
    "(iii) Default arguments: Default arguments allow you to specify default values for parameters in a function. If an argument is not provided when calling the function, the default value is used."
   ]
  },
  {
   "cell_type": "code",
   "execution_count": 5,
   "id": "5365a33c-9a94-4b67-8901-c1c01c2f9eec",
   "metadata": {},
   "outputs": [
    {
     "name": "stdout",
     "output_type": "stream",
     "text": [
      "Hello Rohan\n",
      "Your age is 30\n",
      "Hello Shiva\n",
      "Your age is 40\n"
     ]
    }
   ],
   "source": [
    "# Example for Default arguments\n",
    "def greet(name, age=30):\n",
    "    print(\"Hello\", name)\n",
    "    print(\"Your age is\", age)\n",
    "\n",
    "greet(\"Rohan\")  # age defaults to 30\n",
    "greet(\"Shiva\", 40)  # age is explicitly provided as 40"
   ]
  },
  {
   "cell_type": "markdown",
   "id": "11ff2110-93c1-4d2f-b528-131c05c924e1",
   "metadata": {},
   "source": [
    "3. What is the purpose of the return statement in a function? Can a function have multiple return statements? Explain with an example.\n",
    "\n",
    "Ans. The purpose of the \"return\" statement in a function is to specify the value that the function should produce or \"return\" as its result. A function can have multiple return statements. Once a return statement is executed, the function immediately exits and no further code within the function is executed. Having multiple return statements allows you to conditionally return different values based on specific conditions or logic within the function."
   ]
  },
  {
   "cell_type": "code",
   "execution_count": 8,
   "id": "e69936c8-30c1-4744-aa79-e0129bc443f6",
   "metadata": {},
   "outputs": [
    {
     "name": "stdout",
     "output_type": "stream",
     "text": [
      "Grade: C\n"
     ]
    }
   ],
   "source": [
    "# Example\n",
    "\n",
    "def get_grade(score):\n",
    "    if score >= 90:\n",
    "        return \"A\"\n",
    "    elif score >= 80:\n",
    "        return \"B\"\n",
    "    elif score >= 70:\n",
    "        return \"C\"\n",
    "    else:\n",
    "        return \"F\"\n",
    "\n",
    "student_score = 75\n",
    "grade = get_grade(student_score)\n",
    "print(\"Grade:\", grade)"
   ]
  },
  {
   "cell_type": "markdown",
   "id": "c92b42ff-79ed-434d-aac6-808d899973a6",
   "metadata": {},
   "source": [
    "4. What are lambda functions in Python? How are they different from regular functions? Provide an example where a lambda function can be useful.\n",
    "\n",
    "Ans. lambda functions are small, one-line functions that are defined without a name. They are created using the lambda keyword and are typically used for simple and short operations.\n",
    "\n",
    "Syntax for a lambda function:\n",
    "lambda arguments: expression\n",
    "\n",
    "Lambda functions can take any number of arguments but must evaluate to a single expression, which is the function's return value. They are primarily used when you need a small function for a specific operation and don't want to define a separate named function using def.\n",
    "\n",
    "The key differences between lambda functions and regular functions are:\n",
    "\n",
    "(i)Syntax: Lambda functions are defined using the lambda keyword, whereas regular functions are defined using the def keyword.\n",
    "\n",
    "(ii)Name: Lambda functions are anonymous and do not have a name. They are usually assigned to variables or used as arguments within other functions. Regular functions have a name and can be called directly by their name."
   ]
  },
  {
   "cell_type": "code",
   "execution_count": 9,
   "id": "96d77aa5-b525-4374-87ec-584d9ea01b59",
   "metadata": {},
   "outputs": [
    {
     "name": "stdout",
     "output_type": "stream",
     "text": [
      "[1, 4, 9, 16, 25]\n",
      "[1, 4, 9, 16, 25]\n"
     ]
    }
   ],
   "source": [
    "numbers = [1, 2, 3, 4, 5]\n",
    "\n",
    "# Using a regular function to square each number\n",
    "def square(x):\n",
    "    return x * x\n",
    "\n",
    "squared_numbers = list(map(square, numbers))\n",
    "print(squared_numbers)  # Output: [1, 4, 9, 16, 25]\n",
    "\n",
    "# Using a lambda function to square each number\n",
    "squared_numbers = list(map(lambda x: x * x, numbers))\n",
    "print(squared_numbers)  # Output: [1, 4, 9, 16, 25]"
   ]
  },
  {
   "cell_type": "markdown",
   "id": "9203979b-7792-45c0-b3b0-7910f2f66780",
   "metadata": {},
   "source": [
    "5. How does the concept of \"scope\" apply to functions in Python? Explain the difference between local scope and global scope.\n",
    "\n",
    "Ans. In Python, the concept of \"scope\" refers to the accessibility of variables within different parts of the code. The scope determines where and how variables can be accessed and modified. When it comes to functions, there are two primary scopes:\n",
    "\n",
    "(i)Local scope: Local scope refers to the variables defined within a particular function. These variables are only accessible within the function only and are not accessible outside. Once the function finishes execution, the local variables are destroyed and their values are no longer accessible."
   ]
  },
  {
   "cell_type": "code",
   "execution_count": 10,
   "id": "dc5cb956-dd11-4c4c-b8dc-40c62a7c7a16",
   "metadata": {},
   "outputs": [
    {
     "name": "stdout",
     "output_type": "stream",
     "text": [
      "10\n"
     ]
    },
    {
     "ename": "NameError",
     "evalue": "name 'x' is not defined",
     "output_type": "error",
     "traceback": [
      "\u001b[0;31m---------------------------------------------------------------------------\u001b[0m",
      "\u001b[0;31mNameError\u001b[0m                                 Traceback (most recent call last)",
      "Cell \u001b[0;32mIn [10], line 6\u001b[0m\n\u001b[1;32m      3\u001b[0m     \u001b[38;5;28mprint\u001b[39m(x)\n\u001b[1;32m      5\u001b[0m my_function()  \u001b[38;5;66;03m# Output: 10\u001b[39;00m\n\u001b[0;32m----> 6\u001b[0m \u001b[38;5;28mprint\u001b[39m(\u001b[43mx\u001b[49m)\n",
      "\u001b[0;31mNameError\u001b[0m: name 'x' is not defined"
     ]
    }
   ],
   "source": [
    "# Example for Local scope\n",
    "def my_function():\n",
    "    x = 10  # Local variable\n",
    "    print(x)\n",
    "\n",
    "my_function()  # Output: 10\n",
    "print(x)  # Error: NameError: name 'x' is not defined"
   ]
  },
  {
   "cell_type": "markdown",
   "id": "4f2408a5-955b-412d-b097-7b0008653a29",
   "metadata": {},
   "source": [
    "(ii)Global scope:\n",
    "Global scope refers to variables defined outside of any function or at the top level of a module. These variables are accessible throughout the entire program, including within functions. Global variables can be accessed and modified within functions, but you need to use the global keyword to indicate that you want to work with the global variable instead of creating a new local variable with the same name."
   ]
  },
  {
   "cell_type": "code",
   "execution_count": 11,
   "id": "b9fb1a26-80da-4fc7-b173-48866d4a5558",
   "metadata": {},
   "outputs": [
    {
     "name": "stdout",
     "output_type": "stream",
     "text": [
      "15\n",
      "15\n"
     ]
    }
   ],
   "source": [
    "# Example for Global scope\n",
    "x = 10  # Global variable\n",
    "\n",
    "def my_function():\n",
    "    global x\n",
    "    x += 5\n",
    "    print(x)\n",
    "\n",
    "my_function()  # Output: 15\n",
    "print(x)  # Output: 15"
   ]
  },
  {
   "cell_type": "markdown",
   "id": "30ec4095-5a89-4bec-a753-a1188e7ab9ca",
   "metadata": {},
   "source": [
    "6. How can you use the \"return\" statement in a Python function to return multiple values?\n",
    "\n",
    "Ans. We can use the return statement in a function to \"return\" multiple values by returning them as a tuple, list, or any other iterable object."
   ]
  },
  {
   "cell_type": "code",
   "execution_count": 10,
   "id": "05f10560-4bae-41b7-ade0-0d71ff4184d2",
   "metadata": {},
   "outputs": [
    {
     "name": "stdout",
     "output_type": "stream",
     "text": [
      "Minimum: 1\n",
      "Maximum: 9\n"
     ]
    }
   ],
   "source": [
    "# Example program to find min and max values in a list:\n",
    "def find_min_max(numbers):\n",
    "    min_value = min(numbers)\n",
    "    max_value = max(numbers)\n",
    "    return min_value, max_value\n",
    "\n",
    "my_list = [5, 2, 8, 1, 9]\n",
    "minimum, maximum = find_min_max(my_list)\n",
    "print(\"Minimum:\", minimum)\n",
    "print(\"Maximum:\", maximum)"
   ]
  },
  {
   "cell_type": "markdown",
   "id": "dcbc9ba2-fab9-47e6-b626-218a23713fe7",
   "metadata": {},
   "source": [
    "7. What is the difference between the \"pass by value\" and \"pass by reference\" concepts when it comes to function arguments in Python?\n",
    "\n",
    "Ans. (i) Pass by Value: In pass by value, a copy of the value is passed to the function, any modifications made to the function parameter do not affect the original variable outside the function."
   ]
  },
  {
   "cell_type": "code",
   "execution_count": 11,
   "id": "a809eb88-e01e-4b72-b068-99f475aa3d25",
   "metadata": {},
   "outputs": [
    {
     "name": "stdout",
     "output_type": "stream",
     "text": [
      "Inside function: 6\n",
      "Outside function: 5\n"
     ]
    }
   ],
   "source": [
    "# Example of pass by value\n",
    "def modify_value(num):\n",
    "    num += 1\n",
    "    print(\"Inside function:\", num)\n",
    "\n",
    "value = 5\n",
    "modify_value(value)\n",
    "print(\"Outside function:\", value)"
   ]
  },
  {
   "cell_type": "markdown",
   "id": "0e1ea3db-1c4a-4d37-96f1-1835928c9366",
   "metadata": {},
   "source": [
    "(ii)Pass by Reference: In pass by reference, a reference to the original object is passed to the function, any modifications made to the function parameter affect the original object outside the function."
   ]
  },
  {
   "cell_type": "code",
   "execution_count": 12,
   "id": "99d2a02c-c623-4c5c-af1a-8201622e1799",
   "metadata": {},
   "outputs": [
    {
     "name": "stdout",
     "output_type": "stream",
     "text": [
      "Inside function: [1, 2, 3, 4, 5]\n",
      "Outside function: [1, 2, 3, 4, 5]\n"
     ]
    }
   ],
   "source": [
    "# Example of pass by reference\n",
    "def modify_list(lst):\n",
    "    lst.append(5)\n",
    "    print(\"Inside function:\", lst)\n",
    "\n",
    "my_list = [1, 2, 3, 4]\n",
    "modify_list(my_list)\n",
    "print(\"Outside function:\", my_list)"
   ]
  },
  {
   "cell_type": "markdown",
   "id": "e3d63b55-daed-4f8a-b4a6-961df78e7fae",
   "metadata": {},
   "source": [
    "So, in Python, the behavior is similar to pass by reference for mutable objects like lists, dictionaries, etc., and for immutable objects like numbers, strings, tuples, etc., the behavior is closer to pass by value since they cannot be modified."
   ]
  },
  {
   "cell_type": "markdown",
   "id": "f86cb00c-75c2-497f-9472-4d07aeba7285",
   "metadata": {},
   "source": [
    "8. Create a function that can intake integer or decimal value and do following operations:\n",
    "a. Logarithmic function (log x)\n",
    "b. Exponential function (exp(x))\n",
    "c. Power function with base 2 (2 x )\n",
    "d. Square root"
   ]
  },
  {
   "cell_type": "code",
   "execution_count": 6,
   "id": "f546aba5-e766-4e7a-8746-2b73b73bcc93",
   "metadata": {},
   "outputs": [
    {
     "name": "stdout",
     "output_type": "stream",
     "text": [
      "Logarithm:  1.5040773967762742\n",
      "Exponential:  90.01713130052181\n",
      "Power of 2:  22.627416997969522\n",
      "Square Root:  2.1213203435596424\n"
     ]
    }
   ],
   "source": [
    "# By using import math, we make the math module available in our program. The math module is a built-in module in Python that provides a wide range of mathematical operations and functions.\n",
    "import math\n",
    "\n",
    "def math_operations(num):\n",
    "    # The math.log() function calculates the natural logarithm of num\n",
    "    logarithmic_function = math.log(num)\n",
    "    # The math.exp() function calculates the exponential value of num\n",
    "    exponential_function = math.exp(num)\n",
    "    # The math.pow() function raises 2 to the power of num\n",
    "    power_function = math.pow(2, num)\n",
    "    # The math.sqrt() function calculates the square root of num\n",
    "    square_root = math.sqrt(num)\n",
    "    return logarithmic_function, exponential_function, power_function, square_root\n",
    "\n",
    "number = 5\n",
    "log, exp, power, sqrt = math_operations(number)\n",
    "print(\"Logarithm: \", log)\n",
    "print(\"Exponential: \", exp)\n",
    "print(\"Power of 2: \", power)\n",
    "print(\"Square Root: \", sqrt)"
   ]
  },
  {
   "cell_type": "markdown",
   "id": "adbb96e7-94b1-4e1a-9581-cafce7672a15",
   "metadata": {},
   "source": [
    "9. Create a function that takes a full name as an argument and returns first name and last name."
   ]
  },
  {
   "cell_type": "code",
   "execution_count": 3,
   "id": "87ca8a7c-9508-4aeb-becf-bd4ec44779d1",
   "metadata": {},
   "outputs": [
    {
     "name": "stdout",
     "output_type": "stream",
     "text": [
      "First Name:  Boola\n",
      "Last Name:  Rohan\n"
     ]
    }
   ],
   "source": [
    "def name_split(full_name):\n",
    "    names = full_name.split()\n",
    "    first_name = names[0]\n",
    "    last_name = names[-1]\n",
    "    return first_name, last_name\n",
    "\n",
    "# Example usage\n",
    "full_name = \"Boola Rohan\"\n",
    "first, last = name_split(full_name)\n",
    "print(\"First Name: \", first)\n",
    "print(\"Last Name: \", last)"
   ]
  }
 ],
 "metadata": {
  "kernelspec": {
   "display_name": "Python 3 (ipykernel)",
   "language": "python",
   "name": "python3"
  },
  "language_info": {
   "codemirror_mode": {
    "name": "ipython",
    "version": 3
   },
   "file_extension": ".py",
   "mimetype": "text/x-python",
   "name": "python",
   "nbconvert_exporter": "python",
   "pygments_lexer": "ipython3",
   "version": "3.10.6"
  }
 },
 "nbformat": 4,
 "nbformat_minor": 5
}
