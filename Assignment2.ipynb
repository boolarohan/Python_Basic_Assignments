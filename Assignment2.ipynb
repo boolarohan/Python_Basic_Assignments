{
 "cells": [
  {
   "cell_type": "markdown",
   "id": "af37a346-c9d0-4884-b7af-6ec024fc9155",
   "metadata": {},
   "source": [
    "1.What are the two values of the Boolean data type? How do you write them?\n",
    "\n",
    "Ans. The Boolean data type has two values 'True' and 'False'. These values are written with an uppercase \"T\" and \"F\" as Python is case-sensitive.\n",
    "\n",
    "(i) True: It representa a logical true value and is denoted by the Keyword 'True'."
   ]
  },
  {
   "cell_type": "code",
   "execution_count": 24,
   "id": "e7f9df82-81dd-41a6-a55e-fa0798adcc1c",
   "metadata": {},
   "outputs": [
    {
     "name": "stdout",
     "output_type": "stream",
     "text": [
      "<class 'bool'>\n"
     ]
    }
   ],
   "source": [
    "# Example: \n",
    "\n",
    "boolean_variable = True\n",
    "\n",
    "print(type(boolean_variable))"
   ]
  },
  {
   "cell_type": "markdown",
   "id": "154bfede-edf7-4996-8fae-e0b53b839f44",
   "metadata": {},
   "source": [
    "(ii) False: It represents a logical false value and is denoted by the keyword 'False'."
   ]
  },
  {
   "cell_type": "code",
   "execution_count": 25,
   "id": "a69a3dc1-1c6f-4ea3-862e-4412dbb8916d",
   "metadata": {},
   "outputs": [
    {
     "name": "stdout",
     "output_type": "stream",
     "text": [
      "<class 'bool'>\n"
     ]
    }
   ],
   "source": [
    "# Example: \n",
    "\n",
    "boolean_variable = False\n",
    "\n",
    "print(type(boolean_variable))"
   ]
  },
  {
   "cell_type": "markdown",
   "id": "cb387f4a-7ab0-4346-8a35-ab5f872df8e8",
   "metadata": {},
   "source": [
    "2. What are the three different types of Boolean operators?\n",
    "\n",
    "Ans. The three different types of Boolean operators are:\n",
    "\n",
    "(i) AND Operator: The AND operator returns 'True' if both operands are 'True', otherwise it returns 'False'. It is denoted by the keyword 'and'."
   ]
  },
  {
   "cell_type": "code",
   "execution_count": 26,
   "id": "f67bc509-7bf9-4c30-b35b-c43b8cb81967",
   "metadata": {},
   "outputs": [
    {
     "name": "stdout",
     "output_type": "stream",
     "text": [
      "False\n"
     ]
    }
   ],
   "source": [
    "# Example of AND Operator\n",
    "a = True\n",
    "b = False\n",
    "result = a and b  # Result will be False\n",
    "print(result)"
   ]
  },
  {
   "cell_type": "markdown",
   "id": "b7e7596d-15bd-4ae0-8a9b-24ed606cc3b7",
   "metadata": {},
   "source": [
    "(ii) OR Operator: The OR operator returns 'True' if at least one of the operands is 'True', otherwise it returns 'False'. It is denoted by the keyword 'or'."
   ]
  },
  {
   "cell_type": "code",
   "execution_count": 27,
   "id": "58aeda1f-5f45-462e-84c0-35ef7fa4330c",
   "metadata": {},
   "outputs": [
    {
     "name": "stdout",
     "output_type": "stream",
     "text": [
      "True\n"
     ]
    }
   ],
   "source": [
    "# Example of OR Operator\n",
    "a = True\n",
    "b = False\n",
    "result = a or b  # Result will be True\n",
    "print(result)"
   ]
  },
  {
   "cell_type": "markdown",
   "id": "f20c883b-b02a-4885-8142-4b78a2b18765",
   "metadata": {},
   "source": [
    "(iii) NOT Operator: The NOT operator is a unary operator that negates the value of its operand. It returns `True` if the operand is `False`, and `False` if the operand is `True`. It is denoted by the keyword `not`. Here's an example:"
   ]
  },
  {
   "cell_type": "code",
   "execution_count": 28,
   "id": "59ce9e45-7b30-4abd-a2aa-3a1dcd40ae56",
   "metadata": {},
   "outputs": [
    {
     "name": "stdout",
     "output_type": "stream",
     "text": [
      "False\n"
     ]
    }
   ],
   "source": [
    "# Example of NOT Operator\n",
    "a = True\n",
    "result = not a  # Result will be False\n",
    "print(result)"
   ]
  },
  {
   "cell_type": "markdown",
   "id": "dcec831d-436d-4687-9b2d-a688ad4fecb2",
   "metadata": {},
   "source": [
    "3. Make a list of each Boolean operator's truth tables (i.e. every possible combination of Boolean values for the operator and what it evaluate ).\n",
    "\n",
    "Ans.\n",
    "(i)AND Operator (and):\n",
    "False AND False = False,\n",
    "False AND True = False,\n",
    "True AND False = False,\n",
    "True AND True = True.\n",
    "\n",
    "(ii)OR Operator (or):\n",
    "False OR False = False,\n",
    "False OR True = True,\n",
    "True OR False = True,\n",
    "True OR True = True.\n",
    "\n",
    "(iii)NOT Operator (not):\n",
    "NOT False = True,\n",
    "NOT True = False.\n",
    "\n",
    "These truth tables show all the possible combinations of Boolean values for each operator and the resulting evaluation. \"True\" represents a true value, and \"False\" represents a false value. These truth tables provide a reference for understanding the behavior of Boolean operators when working with different combinations of Boolean values."
   ]
  },
  {
   "cell_type": "code",
   "execution_count": 36,
   "id": "609f162d-fb40-4ca6-a8c7-3b5b2d2fd96d",
   "metadata": {},
   "outputs": [
    {
     "name": "stdout",
     "output_type": "stream",
     "text": [
      "False\n",
      "False\n",
      "False\n",
      "True\n",
      "False\n",
      "True\n",
      "True\n",
      "True\n",
      "True\n",
      "False\n"
     ]
    }
   ],
   "source": [
    "print(False and False)\n",
    "print(False and True)\n",
    "print(True and False)\n",
    "print(True and True)\n",
    "print(False or False)\n",
    "print(False or True)\n",
    "print(True or False)\n",
    "print(True or True)\n",
    "print(not False)\n",
    "print(not True)"
   ]
  },
  {
   "cell_type": "markdown",
   "id": "5b648cb3-ab26-428c-864c-add550b294d0",
   "metadata": {},
   "source": [
    "4. What are the values of the following expressions?"
   ]
  },
  {
   "cell_type": "markdown",
   "id": "528c43e5-2fab-4fbb-ae50-0ebbe2ee9b45",
   "metadata": {},
   "source": [
    "(5 > 4) and (3 == 5)\n",
    "\n",
    "first part, 5 > 4, is True.\n",
    "second part, 3 == 5, is False.\n",
    "The expression evaluates to True and False, which is False."
   ]
  },
  {
   "cell_type": "code",
   "execution_count": 29,
   "id": "b1ef170e-04ba-4c85-9993-19e5706ad84d",
   "metadata": {},
   "outputs": [
    {
     "data": {
      "text/plain": [
       "False"
      ]
     },
     "execution_count": 29,
     "metadata": {},
     "output_type": "execute_result"
    }
   ],
   "source": [
    "(5 > 4) and (3 == 5)"
   ]
  },
  {
   "cell_type": "markdown",
   "id": "ebbb5b0b-40ca-4574-8f50-195e94ccc8c5",
   "metadata": {},
   "source": [
    "not (5 > 4)\n",
    "\n",
    "The part inside the parentheses, 5 > 4, is True.\n",
    "The not operator negates the value, so it becomes False."
   ]
  },
  {
   "cell_type": "code",
   "execution_count": 30,
   "id": "cdd63246-cc0e-45cd-a598-5319112d4596",
   "metadata": {},
   "outputs": [
    {
     "data": {
      "text/plain": [
       "False"
      ]
     },
     "execution_count": 30,
     "metadata": {},
     "output_type": "execute_result"
    }
   ],
   "source": [
    "not (5 > 4)"
   ]
  },
  {
   "cell_type": "markdown",
   "id": "0c5ccb69-6756-4250-9049-c6a3fffc0f84",
   "metadata": {},
   "source": [
    "(5 > 4) or (3 == 5)\n",
    "\n",
    "first part, 5 > 4, is True.\n",
    "second part, 3 == 5, is False.\n",
    "The expression evaluates to True or False, which is True."
   ]
  },
  {
   "cell_type": "code",
   "execution_count": 31,
   "id": "c9394e15-2705-47f1-8b43-b34f4f190a32",
   "metadata": {},
   "outputs": [
    {
     "data": {
      "text/plain": [
       "True"
      ]
     },
     "execution_count": 31,
     "metadata": {},
     "output_type": "execute_result"
    }
   ],
   "source": [
    "(5 > 4) or (3 == 5)"
   ]
  },
  {
   "cell_type": "markdown",
   "id": "26118ca6-efce-4fc0-b54b-36b284e191f0",
   "metadata": {},
   "source": [
    "not ((5 > 4) or (3 == 5))\n",
    "\n",
    "The inner part of the expression, (5 > 4) or (3 == 5), is True.\n",
    "The not operator negates the value, so it becomes False."
   ]
  },
  {
   "cell_type": "code",
   "execution_count": 14,
   "id": "82f41501-218b-450b-94b4-76b562bd5f9f",
   "metadata": {},
   "outputs": [
    {
     "data": {
      "text/plain": [
       "False"
      ]
     },
     "execution_count": 14,
     "metadata": {},
     "output_type": "execute_result"
    }
   ],
   "source": [
    "not ((5 > 4) or (3 == 5))"
   ]
  },
  {
   "cell_type": "markdown",
   "id": "d2c5d646-a984-4081-adc2-47bae0c697f7",
   "metadata": {},
   "source": [
    "(True and True) and (True == False)\n",
    "\n",
    "first part, True and True, is True.\n",
    "second part, True == False, is False.\n",
    "The expression evaluates to True and False, which is False."
   ]
  },
  {
   "cell_type": "code",
   "execution_count": 15,
   "id": "f293d25e-763c-472e-8452-ff650d5c38ec",
   "metadata": {},
   "outputs": [
    {
     "data": {
      "text/plain": [
       "False"
      ]
     },
     "execution_count": 15,
     "metadata": {},
     "output_type": "execute_result"
    }
   ],
   "source": [
    "(True and True) and (True == False)"
   ]
  },
  {
   "cell_type": "markdown",
   "id": "ccba372c-beb3-4f27-bd47-97f41840ad21",
   "metadata": {},
   "source": [
    "(not False) or (not True)\n",
    "\n",
    "first part, not False, is True.\n",
    "second part, not True, is False.\n",
    "The expression evaluates to True or False, which is True."
   ]
  },
  {
   "cell_type": "code",
   "execution_count": 16,
   "id": "a4f54814-8f3a-4f1e-b5be-3ec732f11310",
   "metadata": {},
   "outputs": [
    {
     "data": {
      "text/plain": [
       "True"
      ]
     },
     "execution_count": 16,
     "metadata": {},
     "output_type": "execute_result"
    }
   ],
   "source": [
    "(not False) or (not True)"
   ]
  },
  {
   "cell_type": "markdown",
   "id": "cbd54eb8-bdef-4d58-9bfc-8a294136b8f8",
   "metadata": {},
   "source": [
    "5. What are the six comparison operators?\n",
    "\n",
    "Ans. n Python, there are six comparison operators used to compare values:\n",
    "\n",
    "Equal to (==): It checks if the values of two operands are equal."
   ]
  },
  {
   "cell_type": "code",
   "execution_count": 4,
   "id": "0c5384a1-be10-4e1c-933b-03e6b83ea3b8",
   "metadata": {},
   "outputs": [
    {
     "data": {
      "text/plain": [
       "True"
      ]
     },
     "execution_count": 4,
     "metadata": {},
     "output_type": "execute_result"
    }
   ],
   "source": [
    "# Example \n",
    "5 == 5 # returns True"
   ]
  },
  {
   "cell_type": "markdown",
   "id": "37ce9b6d-a57c-458a-84c1-3fe45f84cd56",
   "metadata": {},
   "source": [
    "Not equal to (!=): It checks if the values of two operands are not equal."
   ]
  },
  {
   "cell_type": "code",
   "execution_count": 5,
   "id": "6e1d8832-17bc-433d-b317-d64466a38f3f",
   "metadata": {},
   "outputs": [
    {
     "data": {
      "text/plain": [
       "True"
      ]
     },
     "execution_count": 5,
     "metadata": {},
     "output_type": "execute_result"
    }
   ],
   "source": [
    "# Example \n",
    "5 != 3 # returns True"
   ]
  },
  {
   "cell_type": "markdown",
   "id": "31e1928c-4919-4f98-99b3-917622d934dc",
   "metadata": {},
   "source": [
    "Greater than (>): It checks if the left operand is greater than the right operand."
   ]
  },
  {
   "cell_type": "code",
   "execution_count": 6,
   "id": "f002fa26-5505-4e10-8636-46bd3d56fd27",
   "metadata": {},
   "outputs": [
    {
     "data": {
      "text/plain": [
       "True"
      ]
     },
     "execution_count": 6,
     "metadata": {},
     "output_type": "execute_result"
    }
   ],
   "source": [
    "# Example \n",
    "5 > 3 # returns True"
   ]
  },
  {
   "cell_type": "markdown",
   "id": "1b0ff333-504a-4332-a4dd-f0ef47b792ed",
   "metadata": {},
   "source": [
    "Less than (<): It checks if the left operand is less than the right operand."
   ]
  },
  {
   "cell_type": "code",
   "execution_count": 7,
   "id": "69d9ee36-9310-4ca0-bc8c-dfe79c3840b2",
   "metadata": {},
   "outputs": [
    {
     "data": {
      "text/plain": [
       "True"
      ]
     },
     "execution_count": 7,
     "metadata": {},
     "output_type": "execute_result"
    }
   ],
   "source": [
    "# Example\n",
    "3 < 5 # returns True"
   ]
  },
  {
   "cell_type": "markdown",
   "id": "e30074f6-1795-4687-a71b-572c0dd37b67",
   "metadata": {},
   "source": [
    "Greater than or equal to (>=): It checks if the left operand is greater than or equal to the right operand."
   ]
  },
  {
   "cell_type": "code",
   "execution_count": 8,
   "id": "15ebc5c6-04e9-4388-84c1-2f2bf2d6d512",
   "metadata": {},
   "outputs": [
    {
     "data": {
      "text/plain": [
       "True"
      ]
     },
     "execution_count": 8,
     "metadata": {},
     "output_type": "execute_result"
    }
   ],
   "source": [
    "# Example \n",
    "5 >= 5 # returns True"
   ]
  },
  {
   "cell_type": "markdown",
   "id": "f0418edc-7541-4243-8493-07c4924180a9",
   "metadata": {},
   "source": [
    "Less than or equal to (<=): It checks if the left operand is less than or equal to the right operand."
   ]
  },
  {
   "cell_type": "code",
   "execution_count": 9,
   "id": "22c904c4-a12f-4d7d-b220-cfb0d4a72f89",
   "metadata": {},
   "outputs": [
    {
     "data": {
      "text/plain": [
       "True"
      ]
     },
     "execution_count": 9,
     "metadata": {},
     "output_type": "execute_result"
    }
   ],
   "source": [
    "# Example \n",
    "3 <= 5 # returns True"
   ]
  },
  {
   "cell_type": "markdown",
   "id": "db31074b-1080-4651-8b26-5c7213df23e7",
   "metadata": {},
   "source": [
    "These comparison operators are used to compare values and return a Boolean result (True or False) based on the comparison."
   ]
  },
  {
   "cell_type": "markdown",
   "id": "06ca28ae-007b-457d-87ec-1dabf1ed82f3",
   "metadata": {},
   "source": [
    "6. How do you tell the difference between the equal to and assignment operators?Describe a condition and when you would use one.\n",
    "\n",
    "Ans. In Python, the equal to operator (==) is used for comparison, while the assignment operator (=) is used for assigning a value to a variable.\n",
    "\n",
    "(i)Equal to operator (==): The equal to operator (==) compares the equality of two values. It returns \"True\" if the values on both sides of the operator are equal and \"False\" otherwise. The equal to operator is typically used in conditional statements such as \"if\" statements or when comparing values for equality.\n",
    "\n",
    "(ii)Assignment operator (=): The assignment operator (=) is used to assign a value to a variable. It takes the value on the right and assigns it to the variable on the left. The assignment operator is commonly used when initializing variables or updating their values."
   ]
  },
  {
   "cell_type": "code",
   "execution_count": 23,
   "id": "ef1ff295-5b90-4342-8d64-fce29b1379d0",
   "metadata": {},
   "outputs": [
    {
     "name": "stdout",
     "output_type": "stream",
     "text": [
      "x is not equal to 10\n"
     ]
    }
   ],
   "source": [
    "# Example\n",
    "x = 5  # Assignment operator, assigns the value 5 to variable x\n",
    "\n",
    "if x == 10:  # Equal to operator, compares if the value of x is equal to 10\n",
    "    print(\"x is equal to 10\")\n",
    "else:\n",
    "    print(\"x is not equal to 10\")"
   ]
  },
  {
   "cell_type": "markdown",
   "id": "655ff295-2856-4e9f-9dce-f8eab04fb6f6",
   "metadata": {},
   "source": [
    "7. Identify the three blocks in this code:"
   ]
  },
  {
   "cell_type": "code",
   "execution_count": 2,
   "id": "b5154fec-efe7-4093-9f3d-03f350655a1d",
   "metadata": {},
   "outputs": [
    {
     "name": "stdout",
     "output_type": "stream",
     "text": [
      "ham\n",
      "spam\n",
      "spam\n"
     ]
    }
   ],
   "source": [
    "spam = 0\n",
    "if spam == 10:\n",
    "    print('eggs')\n",
    "if spam > 5:\n",
    "    print('bacon')\n",
    "else:\n",
    "    print('ham')\n",
    "print('spam')\n",
    "print('spam')"
   ]
  },
  {
   "cell_type": "markdown",
   "id": "c4125910-0e9a-4388-b7e5-4d38c498d441",
   "metadata": {},
   "source": [
    "In Python, blocks of code are defined by their indentation. To identify the blocks in the code we need to consider the indentation levels."
   ]
  },
  {
   "cell_type": "code",
   "execution_count": 8,
   "id": "07475eb1-3412-4184-b944-874f20dac994",
   "metadata": {},
   "outputs": [],
   "source": [
    "# Block1: Empty block (no code executed conditionally)\n",
    "spam = 0\n",
    "if spam == 10:\n",
    "    print('eggs')"
   ]
  },
  {
   "cell_type": "markdown",
   "id": "e690fdf1-d718-49c2-983e-9ea2c401aca7",
   "metadata": {},
   "source": [
    "This block contains the initialization of the variable spam and an \"if\" statement. It checks if the value of \"spam\" is equal to 10."
   ]
  },
  {
   "cell_type": "code",
   "execution_count": 9,
   "id": "2d342d47-314e-42ab-a064-db8bbf105d54",
   "metadata": {},
   "outputs": [
    {
     "name": "stdout",
     "output_type": "stream",
     "text": [
      "ham\n"
     ]
    }
   ],
   "source": [
    "# Block 2: Contains the \"print\" statements inside the \"if\" and \"else\" clauses\n",
    "if spam > 5:\n",
    "    print('bacon')\n",
    "else:\n",
    "    print('ham')"
   ]
  },
  {
   "cell_type": "markdown",
   "id": "9f91d790-5bf1-4755-8086-e163e1721031",
   "metadata": {},
   "source": [
    "This block starts with another \"if\" statement that checks if the value of \"spam\" is greater than 5. If the condition is true it executes the code \"print('bacon')\". Otherwise it executes the code \"print('ham')\". "
   ]
  },
  {
   "cell_type": "code",
   "execution_count": 11,
   "id": "a53cf2b7-5c89-4297-b291-2b525e7e58f8",
   "metadata": {},
   "outputs": [
    {
     "name": "stdout",
     "output_type": "stream",
     "text": [
      "spam\n",
      "spam\n"
     ]
    }
   ],
   "source": [
    "# Block 3: Contains the two consecutive \"print\" statements at the same level as the previous \"if\" statement\n",
    "print('spam')\n",
    "print('spam')"
   ]
  },
  {
   "cell_type": "markdown",
   "id": "12d72d6b-d63c-43f2-9c59-1db4af6113bd",
   "metadata": {},
   "source": [
    "This block contains two \"print\" statements. Since they are not indented and are at the same level as the previous \"if\" statement, they are considered as a separate block."
   ]
  },
  {
   "cell_type": "markdown",
   "id": "666a35f1-1410-4204-8c73-8ffad3cd9d72",
   "metadata": {},
   "source": [
    "8. Write code that prints Hello if 1 is stored in spam, prints Howdy if 2 is stored in spam, and prints Greetings! if anything else is stored in spam."
   ]
  },
  {
   "cell_type": "code",
   "execution_count": 4,
   "id": "81ec46a7-64ba-4d24-b3e7-2ed8ef4752a4",
   "metadata": {},
   "outputs": [
    {
     "name": "stdin",
     "output_type": "stream",
     "text": [
      "Enter your value here:  3\n"
     ]
    },
    {
     "name": "stdout",
     "output_type": "stream",
     "text": [
      "Greetings!\n"
     ]
    }
   ],
   "source": [
    "spam = int(input(\"Enter your value here: \"))\n",
    "\n",
    "if spam == 1:\n",
    "    print(\"Hello\")\n",
    "elif spam == 2:\n",
    "    print(\"Howdy\")\n",
    "else:\n",
    "    print(\"Greetings!\")"
   ]
  },
  {
   "cell_type": "markdown",
   "id": "a81507bb-6cd0-42a4-82f6-f9be503010df",
   "metadata": {},
   "source": [
    "9.If your programme is stuck in an endless loop, what keys you’ll press?\n",
    "\n",
    "Ans. Pressing Ctrl + C (Control and C keys simultaneously) on your keyboard. This key combination sends an interrupt signal to the Python interpreter causing it to terminate the current running program or script. It allows you to break out of the endless loop and regain control. \n",
    "\n",
    "Depending on the specific Python environment or console you are using there might be variations in the key combination required to interrupt the program. However Ctrl + C is the most common and widely used combination across various Python environments."
   ]
  },
  {
   "cell_type": "markdown",
   "id": "c3aebbb5-ee67-4693-a08c-34da8bee83b5",
   "metadata": {},
   "source": [
    "10. How can you tell the difference between break and continue?\n",
    "\n",
    "Ans. In Python, the break and continue statements are used to control the flow of loops such as \"for\" and \"while\" loops. Here's how you can differentiate between break and continue:\n",
    "\n",
    "(i)break statement: The break statement is used to exit or terminate the current loop. When encountered the break statement immediately terminates the innermost loop in which it is present. After encountering a break statement the program execution continues with the next statement after the loop.\n",
    "The break statement is often used when a certain condition is met, and you want to exit the loop without executing the remaining iterations.\n",
    "\n",
    "(ii)continue statement: The continue statement is used to skip the current iteration of a loop and move to the next iteration. When encountered the continue statement skips the remaining code within the loop for the current iteration. After skipping the current iteration, the loop continues with the next iteration. The continue statement is often used when you want to skip certain iterations based on a specific condition but continue the loop execution."
   ]
  },
  {
   "cell_type": "code",
   "execution_count": 32,
   "id": "a729527e-321e-4c57-acea-cd479b57c8b1",
   "metadata": {},
   "outputs": [
    {
     "name": "stdout",
     "output_type": "stream",
     "text": [
      "First even number found: 2\n"
     ]
    }
   ],
   "source": [
    "# break Example\n",
    "numbers = [1, 3, 5, 2, 7, 4, 6]\n",
    "\n",
    "for num in numbers:\n",
    "    if num % 2 == 0:\n",
    "        print(\"First even number found:\", num)\n",
    "        break"
   ]
  },
  {
   "cell_type": "code",
   "execution_count": 33,
   "id": "b383a0a7-8ffc-4381-9a4f-e24f479301f1",
   "metadata": {},
   "outputs": [
    {
     "name": "stdout",
     "output_type": "stream",
     "text": [
      "Odd number: 1\n",
      "Odd number: 3\n",
      "Odd number: 5\n",
      "Odd number: 7\n",
      "Odd number: 9\n"
     ]
    }
   ],
   "source": [
    "# continue Example\n",
    "numbers = [1, 2, 3, 4, 5, 6, 7, 8, 9, 10]\n",
    "\n",
    "for num in numbers:\n",
    "    if num % 2 == 0:\n",
    "        continue\n",
    "    print(\"Odd number:\", num)"
   ]
  },
  {
   "cell_type": "markdown",
   "id": "6d0882c7-0ecd-47fc-9adb-ff801b8dccaa",
   "metadata": {},
   "source": [
    "11. In a for loop, what is the difference between range(10), range(0, 10), and range(0, 10, 1)?\n",
    "\n",
    "Ans. In a for loop, the range() function is commonly used to generate a sequence of numbers.\n",
    "\n",
    "(i) range(10): This form of \"range()\" generates a sequence of numbers starting from 0 which is default start value and up to but not including the specified end value 10. The step value is implicitly set to 1 which is default step value. So, it increments by 1 for each iteration."
   ]
  },
  {
   "cell_type": "code",
   "execution_count": 19,
   "id": "3240832e-db3a-4c23-9805-76a948222ed0",
   "metadata": {},
   "outputs": [
    {
     "name": "stdout",
     "output_type": "stream",
     "text": [
      "0\n",
      "1\n",
      "2\n",
      "3\n",
      "4\n",
      "5\n",
      "6\n",
      "7\n",
      "8\n",
      "9\n"
     ]
    }
   ],
   "source": [
    "# Example\n",
    "for i in range(10):\n",
    "    print(i)"
   ]
  },
  {
   "cell_type": "markdown",
   "id": "40db9490-343f-4f6a-a14a-a550dfc44c98",
   "metadata": {},
   "source": [
    "(ii) range(0, 10): This form of \"range()\" specifies both the start and end values explicitly. The sequence starts from the specified start value 0 and goes up to but not including the specified end value 10. The step value is implicitly set to 1."
   ]
  },
  {
   "cell_type": "code",
   "execution_count": 20,
   "id": "b8d0b4c7-af1c-4acd-9a98-04ed41552f7d",
   "metadata": {},
   "outputs": [
    {
     "name": "stdout",
     "output_type": "stream",
     "text": [
      "0\n",
      "1\n",
      "2\n",
      "3\n",
      "4\n",
      "5\n",
      "6\n",
      "7\n",
      "8\n",
      "9\n"
     ]
    }
   ],
   "source": [
    "# Example\n",
    "for i in range(0, 10):\n",
    "    print(i)"
   ]
  },
  {
   "cell_type": "markdown",
   "id": "b6d18788-85ae-46ca-abee-7a286d9a8141",
   "metadata": {},
   "source": [
    "(iii) range(0, 10, 1): This form of \"range()\" specifies both the start and end values explicitly along with the step value. The sequence starts from the specified start value 0 and goes up to but not including the specified end value 10. The step value is also specified explicitly as 1. It determines the increment or decrement between each iteration. In this case the step value is 1 so the sequence increments by 1 for each iteration."
   ]
  },
  {
   "cell_type": "code",
   "execution_count": 21,
   "id": "c4d9a044-6cc9-41f8-b7aa-45b8cb04ed9b",
   "metadata": {},
   "outputs": [
    {
     "name": "stdout",
     "output_type": "stream",
     "text": [
      "0\n",
      "1\n",
      "2\n",
      "3\n",
      "4\n",
      "5\n",
      "6\n",
      "7\n",
      "8\n",
      "9\n"
     ]
    }
   ],
   "source": [
    "# Example\n",
    "for i in range(0, 10, 1):\n",
    "    print(i)"
   ]
  },
  {
   "cell_type": "markdown",
   "id": "98242ad3-4cdc-4ad8-923a-cc13acd203f3",
   "metadata": {},
   "source": [
    "12. Write a short program that prints the numbers 1 to 10 using a for loop. Then write an equivalent program that prints the numbers 1 to 10 using a while loop."
   ]
  },
  {
   "cell_type": "code",
   "execution_count": 13,
   "id": "c0693fe2-ad2c-4bf0-b7f0-e1b74083d283",
   "metadata": {},
   "outputs": [
    {
     "name": "stdout",
     "output_type": "stream",
     "text": [
      "1\n",
      "2\n",
      "3\n",
      "4\n",
      "5\n",
      "6\n",
      "7\n",
      "8\n",
      "9\n",
      "10\n"
     ]
    }
   ],
   "source": [
    "for i in range(1, 11):\n",
    "    print(i)"
   ]
  },
  {
   "cell_type": "markdown",
   "id": "cac1af21-93c4-459e-8011-ea94e9bdedbf",
   "metadata": {},
   "source": [
    "This program uses the \"range()\" function with the start value of 1 and the end value of 11 to generate a sequence of numbers from 1 to 10. The \"for\" loop iterates over each number in the sequence and prints it."
   ]
  },
  {
   "cell_type": "code",
   "execution_count": 16,
   "id": "2d2b3d12-954a-401a-a073-f04a77acb76d",
   "metadata": {},
   "outputs": [
    {
     "name": "stdout",
     "output_type": "stream",
     "text": [
      "1\n",
      "2\n",
      "3\n",
      "4\n",
      "5\n",
      "6\n",
      "7\n",
      "8\n",
      "9\n",
      "10\n"
     ]
    }
   ],
   "source": [
    "i = 1\n",
    "while i <= 10:\n",
    "    print(i)\n",
    "    i += 1"
   ]
  },
  {
   "cell_type": "markdown",
   "id": "f04af5fc-7b6a-4923-a0ae-ebdcbb166964",
   "metadata": {},
   "source": [
    "In this program we initialize the variable \"i\" to 1. The \"while\" loop executes as long as \"i\" is less than or equal to 10. Within each iteration it prints the value of \"i\" and increments it by 1 using \"i += 1\". This continues until num reaches 11 at which point the loop terminates."
   ]
  },
  {
   "cell_type": "markdown",
   "id": "4fdc5c16-4710-4f3e-ba6b-235ef04ab1cf",
   "metadata": {},
   "source": [
    "13. If you had a function named bacon() inside a module named spam, how would you call it after importing spam?\n",
    "\n",
    "Ans. After importing the module named \"spam\" we can call the function \"bacon()\" using the following syntax:\n",
    "\n",
    "import spam\n",
    "\n",
    "spam.bacon()\n",
    "\n",
    "Here \"spam\" refers to the imported module and \"bacon()\" is the function inside that module. The module name and a dot followed by the function name \"spam.bacon()\" we can call the function and execute its code."
   ]
  }
 ],
 "metadata": {
  "kernelspec": {
   "display_name": "Python 3 (ipykernel)",
   "language": "python",
   "name": "python3"
  },
  "language_info": {
   "codemirror_mode": {
    "name": "ipython",
    "version": 3
   },
   "file_extension": ".py",
   "mimetype": "text/x-python",
   "name": "python",
   "nbconvert_exporter": "python",
   "pygments_lexer": "ipython3",
   "version": "3.10.6"
  }
 },
 "nbformat": 4,
 "nbformat_minor": 5
}
