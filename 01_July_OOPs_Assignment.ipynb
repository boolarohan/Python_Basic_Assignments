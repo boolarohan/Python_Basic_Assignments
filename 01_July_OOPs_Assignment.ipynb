{
 "cells": [
  {
   "cell_type": "markdown",
   "id": "6e1e3599-6ce4-4118-8b19-2d2a43d1ccc0",
   "metadata": {},
   "source": [
    "1. What is the primary goal of Object-Oriented Programming (OOP)?\n",
    "\n",
    "Ans. The primary goal of Object-Oriented Programming (OOP) is to provide a programming paradigm that focuses on organizing and structuring code around objects, which are instances of classes. OOP aims to represent real-world entities and their interactions through the use of objects, encapsulation, inheritance, and polymorphism.\n",
    "\n",
    "The main goals of OOP are:\n",
    "\n",
    "Modularity: OOP promotes the organization of code into self-contained modules called classes. Each class encapsulates data (attributes) and behavior (methods) related to a specific entity or concept. This modularity makes code easier to understand, maintain, and extend.\n",
    "\n",
    "Reusability: OOP emphasizes code reuse by allowing classes to be used as blueprints to create multiple objects with similar characteristics. Inheritance enables the creation of new classes based on existing ones, inheriting their attributes and behaviors. This promotes efficient code reuse, reduces redundancy, and enhances productivity.\n",
    "\n",
    "Encapsulation: OOP supports encapsulation, which means bundling data and the methods that operate on that data within a single unit (a class). Encapsulation provides data hiding and abstraction, allowing the internal implementation details to be hidden from other parts of the program. This enhances security, improves code maintainability, and reduces dependencies.\n",
    "\n",
    "Abstraction: OOP enables abstraction by focusing on essential characteristics and behaviors of objects while hiding unnecessary details. Abstraction simplifies the complexity of a system by providing a high-level view and allowing developers to interact with objects based on their essential features. It helps in modeling real-world entities and promotes clearer code design.\n",
    "\n",
    "Polymorphism: OOP supports polymorphism, which allows objects of different classes to be treated uniformly through a common interface. Polymorphism enables code flexibility, extensibility, and the ability to write generic code that can work with objects of different types. It promotes code reuse and enables dynamic behavior based on the actual type of the object at runtime."
   ]
  },
  {
   "cell_type": "markdown",
   "id": "de264a42-3cf5-4df6-8609-b80969dea556",
   "metadata": {},
   "source": [
    "2. What is an object in Python?\n",
    "\n",
    "Ans. In Python, an object is a fundamental concept of Object-Oriented Programming (OOP) that represents a specific instance of a class. An object is created from a class and inherits its attributes and behaviors. It is a self-contained entity that combines data (attributes) and functions (methods) that operate on that data.\n",
    "\n",
    "An object can be thought of as a real-world entity or concept that can be represented in code. For example, if we have a class called \"Car,\" an object of that class could represent a specific car with its own unique characteristics such as color, model, and mileage.\n",
    "\n",
    "In Python, objects are created by calling the class as if it were a function, which invokes the class's constructor method (\"__init__()\"). The constructor initializes the object's attributes and sets its initial state."
   ]
  },
  {
   "cell_type": "code",
   "execution_count": 1,
   "id": "f897625d-2e30-4ce7-842f-977f0f8eb6dc",
   "metadata": {},
   "outputs": [],
   "source": [
    "class Car:\n",
    "    def __init__(self, color, model, mileage):\n",
    "        self.color = color\n",
    "        self.model = model\n",
    "        self.mileage = mileage"
   ]
  },
  {
   "cell_type": "code",
   "execution_count": 2,
   "id": "8a58f76f-95e8-4a4e-b977-fc43cd81e942",
   "metadata": {
    "tags": []
   },
   "outputs": [],
   "source": [
    "# Create an object\n",
    "my_car = Car(\"Black\", \"BMW X4\", 3000)"
   ]
  },
  {
   "cell_type": "markdown",
   "id": "4245a1b5-a370-4840-baef-222fa93e61c0",
   "metadata": {},
   "source": [
    "Here the \"Car\" class has attributes color, model, and mileage. The __init__() method is the constructor that initializes these attributes. We create an object my_car by calling the Car class and passing the required arguments. Once the object is created, we can access its attributes using dot notation (object_name.attribute_name). For example, my_car.color will give us the color of the car."
   ]
  },
  {
   "cell_type": "code",
   "execution_count": 8,
   "id": "a5848805-10e5-4407-9dfe-40f96ac31e33",
   "metadata": {},
   "outputs": [
    {
     "name": "stdout",
     "output_type": "stream",
     "text": [
      "Black\n",
      "BMW X4\n",
      "3000\n"
     ]
    }
   ],
   "source": [
    "# Accessing the atribute details for the created object\n",
    "print(my_car.color)\n",
    "print(my_car.model)\n",
    "print(my_car.mileage)"
   ]
  },
  {
   "cell_type": "markdown",
   "id": "cd8ff663-609b-40de-9ea3-36a9055e67c6",
   "metadata": {},
   "source": [
    "3. What is a class in Python?\n",
    "\n",
    "Ans. In Python, a class is a blueprint or a template that defines the structure and behavior of objects. It serves as a blueprint for creating individual instances of objects, known as objects or instances.\n",
    "\n",
    "A class encapsulates related data (attributes) and functions (methods) that operate on that data. It defines the properties and behaviors that objects of that class will possess. The attributes represent the state or characteristics of the objects, while the methods define the actions or operations that can be performed on those objects.\n",
    "\n",
    "The class itself acts as a factory for creating objects. When an object is created, it is instantiated from the class. Each object created from the same class has its own separate set of attributes, but they share the same structure and behavior defined by the class."
   ]
  },
  {
   "cell_type": "code",
   "execution_count": 9,
   "id": "07ce5cf6-74c3-4eb9-b930-173160ad05de",
   "metadata": {},
   "outputs": [],
   "source": [
    "class Car:\n",
    "    def __init__(self, color, model, mileage):\n",
    "        self.color = color\n",
    "        self.model = model\n",
    "        self.mileage = mileage\n",
    "\n",
    "    def drive(self):\n",
    "        print(\"The car is being driven.\")\n",
    "\n",
    "    def honk(self):\n",
    "        print(\"Beep beep!\")"
   ]
  },
  {
   "cell_type": "code",
   "execution_count": 10,
   "id": "1ad18182-7356-41f1-8dfd-ab147e7c17c3",
   "metadata": {},
   "outputs": [],
   "source": [
    "# Creating objects from the class\n",
    "my_car = Car(\"Red\", \"Tesla Model S\", 5000)\n",
    "your_car = Car(\"Blue\", \"BMW 3 Series\", 10000)"
   ]
  },
  {
   "cell_type": "markdown",
   "id": "1212e994-aa2b-4de0-902f-c9a5766dc4e6",
   "metadata": {},
   "source": [
    "Here the \"Car\" class defines the structure and behavior of car objects. It has attributes color, model, and mileage, as well as methods \"drive()\" and \"honk()\". The \"__init__()\" method is a special method called the constructor, which is invoked when an object is created and initializes its attributes.\n",
    "\n",
    "To create objects from the class, we call the class as if it were a function and pass the required arguments. This creates separate instances (my_car and your_car) with their own unique set of attributes, but they share the same structure and behavior defined by the Car class.\n",
    "\n",
    "We can access the attributes and invoke the methods of the objects using dot notation (object_name.attribute_name or object_name.method_name())."
   ]
  },
  {
   "cell_type": "code",
   "execution_count": 12,
   "id": "5aa39863-5efd-4e52-9ada-f0db7f4cc76e",
   "metadata": {},
   "outputs": [
    {
     "name": "stdout",
     "output_type": "stream",
     "text": [
      "Red\n",
      "Tesla Model S\n",
      "5000\n",
      "Blue\n",
      "BMW 3 Series\n",
      "10000\n"
     ]
    }
   ],
   "source": [
    "print(my_car.color)\n",
    "print(my_car.model)\n",
    "print(my_car.mileage)\n",
    "print(your_car.color)\n",
    "print(your_car.model)\n",
    "print(your_car.mileage)"
   ]
  },
  {
   "cell_type": "code",
   "execution_count": 13,
   "id": "1d07a267-20db-4ce9-9fab-cf7de248c9f2",
   "metadata": {},
   "outputs": [
    {
     "name": "stdout",
     "output_type": "stream",
     "text": [
      "The car is being driven.\n"
     ]
    }
   ],
   "source": [
    "# invoking the method drive()\n",
    "my_car.drive()"
   ]
  },
  {
   "cell_type": "code",
   "execution_count": 14,
   "id": "e499ccdc-21d0-4444-8a8e-2596015dfa16",
   "metadata": {},
   "outputs": [
    {
     "name": "stdout",
     "output_type": "stream",
     "text": [
      "Beep beep!\n"
     ]
    }
   ],
   "source": [
    "# invoking the method honk()\n",
    "your_car.honk()"
   ]
  },
  {
   "cell_type": "markdown",
   "id": "2fc35156-997f-4311-921e-05aa70d4ba0f",
   "metadata": {},
   "source": [
    "Classes in Python allow for code reusability, encapsulation, and the organization of related data and functions into a cohesive unit. "
   ]
  },
  {
   "cell_type": "markdown",
   "id": "daac2da1-390d-4f1b-bf0a-bb5885a8647f",
   "metadata": {},
   "source": [
    "4. What are attributes and methods in a class?\n",
    "\n",
    "Ans. In a class, attributes and methods are the building blocks that define the structure and behavior of objects created from that class.\n",
    "\n",
    "Attributes:\n",
    "\n",
    "Attributes are variables that hold data or state specific to each instance of the class (i.e., each object). They represent the characteristics or properties of an object.\n",
    "\n",
    "Attributes define the state of an object and can store information such as names, ages, sizes, colors, or any other relevant data associated with the object.\n",
    "\n",
    "Attributes are defined within the class and are accessed using dot notation (object_name.attribute_name).\n",
    "\n",
    "Each object created from the class has its own separate set of attribute values.\n",
    "\n",
    "Methods:\n",
    "\n",
    "Methods are functions defined within a class that operate on the attributes and perform actions related to the class and its objects.\n",
    "\n",
    "Methods define the behavior or operations that objects of the class can perform.\n",
    "\n",
    "Methods can access and manipulate the attributes of an object.\n",
    "\n",
    "Methods are defined within the class and are called using dot notation (object_name.method_name()).\n",
    "\n",
    "Methods can take arguments and return values, similar to regular functions.\n",
    "\n",
    "Some common methods in classes include constructors (__init__()), which initializes the object's attributes, and other methods that perform specific actions on the object's attributes."
   ]
  },
  {
   "cell_type": "code",
   "execution_count": 15,
   "id": "efd47394-ed6c-47ce-a0c6-01c89c4b0928",
   "metadata": {},
   "outputs": [],
   "source": [
    "class Person:\n",
    "    def __init__(self, name, age):\n",
    "        self.name = name\n",
    "        self.age = age\n",
    "\n",
    "    def greet(self):\n",
    "        print(f\"Hello my name is {self.name}\")\n",
    "        print(f\"I am {self.age} years old\")"
   ]
  },
  {
   "cell_type": "code",
   "execution_count": 16,
   "id": "1b443df5-193b-4e47-a559-d9ae6bb7ed27",
   "metadata": {},
   "outputs": [],
   "source": [
    "# Creating an object from the class\n",
    "person = Person(\"Rohan\", 24)"
   ]
  },
  {
   "cell_type": "code",
   "execution_count": 17,
   "id": "eba91bab-95a2-4fa9-89bd-5fd3f6debf95",
   "metadata": {},
   "outputs": [
    {
     "name": "stdout",
     "output_type": "stream",
     "text": [
      "Rohan\n",
      "24\n"
     ]
    }
   ],
   "source": [
    "# Accessing attributes\n",
    "print(person.name)\n",
    "print(person.age)"
   ]
  },
  {
   "cell_type": "code",
   "execution_count": 18,
   "id": "15a66d5d-1566-41ab-a725-a20efdb60e39",
   "metadata": {},
   "outputs": [
    {
     "name": "stdout",
     "output_type": "stream",
     "text": [
      "Hello my name is Rohan\n",
      "I am 24 years old\n"
     ]
    }
   ],
   "source": [
    "# Calling methods\n",
    "person.greet()"
   ]
  },
  {
   "cell_type": "markdown",
   "id": "d6125ee2-4a99-44d6-8cf6-a5f40fba67be",
   "metadata": {},
   "source": [
    "Here the Person class has attributes name and age, and a method greet(). The constructor method __init__() initializes the attributes when an object is created. The greet() method prints a greeting message using the attributes of the object."
   ]
  },
  {
   "cell_type": "markdown",
   "id": "4ead8731-45d6-4d0e-b5b4-5daea761236c",
   "metadata": {},
   "source": [
    "5. What is the difference between class variables and instance variables in Python?\n",
    "\n",
    "Ans. In Python, class variables and instance variables are two types of variables that are used within a class but have different scopes and behaviors. Here's a breakdown of the differences between class variables and instance variables:\n",
    "\n",
    "Class Variables:\n",
    "\n",
    "Class variables are defined within the class but outside of any methods. They are associated with the class itself rather than with any particular instance of the class.\n",
    "\n",
    "Class variables are shared by all instances (objects) of the class. Any changes made to the class variable will be reflected in all instances.\n",
    "\n",
    "Class variables are typically used to store data that is common to all instances of the class, such as configuration settings, default values, or shared information.\n",
    "\n",
    "Class variables are accessed using the class name itself or through any instance of the class.\n",
    "\n",
    "Class variables can be accessed and modified by all instances and methods of the class.\n",
    "\n",
    "Instance Variables:\n",
    "\n",
    "Instance variables are specific to each instance (object) of the class. Each instance has its own separate set of instance variables, which are independent of other instances.\n",
    "\n",
    "Instance variables are defined within the class's methods, typically within the __init__() method, using the self keyword to associate the variable with the instance.\n",
    "\n",
    "Instance variables store data that is unique to each instance. They represent the specific state or characteristics of each object.\n",
    "\n",
    "Instance variables can be accessed and modified only through the specific instance to which they belong.\n",
    "\n",
    "Changes made to instance variables are limited to the individual instance and do not affect other instances or the class itself."
   ]
  },
  {
   "cell_type": "code",
   "execution_count": 19,
   "id": "3b92d385-76f1-4304-88ba-835a280962f0",
   "metadata": {},
   "outputs": [],
   "source": [
    "class MyClass:\n",
    "    class_var = \"Class Variable\"\n",
    "\n",
    "    def __init__(self, instance_var):\n",
    "        self.instance_var = instance_var"
   ]
  },
  {
   "cell_type": "code",
   "execution_count": 20,
   "id": "4031cb06-51b9-4857-a5f1-c1b12af418b2",
   "metadata": {},
   "outputs": [
    {
     "name": "stdout",
     "output_type": "stream",
     "text": [
      "Class Variable\n"
     ]
    }
   ],
   "source": [
    "# Accessing class variable\n",
    "print(MyClass.class_var)"
   ]
  },
  {
   "cell_type": "code",
   "execution_count": 21,
   "id": "d705eb24-97a3-438e-b627-a84a217792c0",
   "metadata": {},
   "outputs": [
    {
     "name": "stdout",
     "output_type": "stream",
     "text": [
      "Instance Variable 1\n",
      "Instance Variable 2\n"
     ]
    }
   ],
   "source": [
    "# Creating instances and accessing instance variables\n",
    "obj1 = MyClass(\"Instance Variable 1\")\n",
    "obj2 = MyClass(\"Instance Variable 2\")\n",
    "\n",
    "print(obj1.instance_var)\n",
    "print(obj2.instance_var)"
   ]
  },
  {
   "cell_type": "code",
   "execution_count": 22,
   "id": "7fea2c9a-952a-4bc1-9c03-05c1409047da",
   "metadata": {},
   "outputs": [
    {
     "name": "stdout",
     "output_type": "stream",
     "text": [
      "Updated Class Variable\n",
      "Updated Instance Variable 1\n",
      "Instance Variable 2\n"
     ]
    }
   ],
   "source": [
    "# Modifying class variable and instance variable\n",
    "MyClass.class_var = \"Updated Class Variable\"\n",
    "obj1.instance_var = \"Updated Instance Variable 1\"\n",
    "\n",
    "print(MyClass.class_var)\n",
    "print(obj1.instance_var)\n",
    "print(obj2.instance_var)"
   ]
  },
  {
   "cell_type": "markdown",
   "id": "99b7ea5d-985d-41ee-8f20-40d1194daefc",
   "metadata": {},
   "source": [
    "Here the \"class_var\" is a class variable that is shared by all instances of the MyClass class. Each instance has its own \"instance_var\", which is an instance variable specific to that instance. Changes to the class variable will be reflected in all instances, while changes to instance variables are limited to the specific instances."
   ]
  },
  {
   "cell_type": "markdown",
   "id": "50a3a355-4cfc-4e43-b78a-c9745d9bea1d",
   "metadata": {},
   "source": [
    "6. What is the purpose of the self parameter in Python class methods?\n",
    "\n",
    "Ans. In Python class methods, the \"self\" parameter is a convention used to refer to the instance of the class itself. It is the first parameter of instance methods and represents the object on which the method is called. The \"self\" parameter allows the method to access and manipulate the attributes and other methods of the object.\n",
    "\n",
    "The purpose of the self parameter is to provide a way for methods to refer to the specific instance of the class to which they belong. It allows methods to operate on the specific state and behavior of the object, accessing its attributes and invoking other methods.\n",
    "\n",
    "When a method is called on an object, the object itself is automatically passed as the \"self\" argument to the method. This allows the method to access the object's attributes and perform actions specific to that instance."
   ]
  },
  {
   "cell_type": "code",
   "execution_count": 23,
   "id": "f2b3b39a-bef0-4b53-8cd7-c088cfc65de7",
   "metadata": {},
   "outputs": [],
   "source": [
    "class MyClass:\n",
    "    def __init__(self, value):\n",
    "        self.value = value\n",
    "\n",
    "    def display_value(self):\n",
    "        print(\"Value:\", self.value)\n",
    "\n",
    "    def set_value(self, new_value):\n",
    "        self.value = new_value"
   ]
  },
  {
   "cell_type": "code",
   "execution_count": 24,
   "id": "5af6344e-72eb-4804-b671-801d9615e7cd",
   "metadata": {},
   "outputs": [],
   "source": [
    "# Creating an instance of the class\n",
    "obj = MyClass(42)"
   ]
  },
  {
   "cell_type": "code",
   "execution_count": 25,
   "id": "87e55f69-9c94-4c3d-b10c-70b4920a9d7e",
   "metadata": {},
   "outputs": [
    {
     "name": "stdout",
     "output_type": "stream",
     "text": [
      "Value: 42\n",
      "Value: 100\n"
     ]
    }
   ],
   "source": [
    "# Calling instance methods with the self parameter\n",
    "obj.display_value()\n",
    "\n",
    "obj.set_value(100)\n",
    "obj.display_value()"
   ]
  },
  {
   "cell_type": "markdown",
   "id": "b62bf1c7-aee1-4ce9-a458-4b81061f529d",
   "metadata": {},
   "source": [
    "7. For a library management system, you have to design the \"Book\" class with OOP principles in mind. \n",
    "\n",
    "The “Book” class will have following attributes:\n",
    "\n",
    "a. title: Represents the title of the book.\n",
    "\n",
    "b. author: Represents the author(s) of the book.\n",
    "\n",
    "c. isbn: Represents the ISBN (International Standard Book Number) of the book.\n",
    "\n",
    "d. publication_year: Represents the year of publication of the book.\n",
    "\n",
    "e. available_copies: Represents the number of copies available for checkout.\n",
    "\n",
    "The class will also include the following methods:\n",
    "\n",
    "a. check_out(self): Decrements the available copies by one if there are copies available for checkout.\n",
    "\n",
    "b. return_book(self): Increments the available copies by one when a book is returned.\n",
    "\n",
    "c. display_book_info(self): Displays the information about the book, including its attributes and the number of available copies."
   ]
  },
  {
   "cell_type": "code",
   "execution_count": 10,
   "id": "39a2aa0f-201d-4cc3-a17d-4aed7c9656a8",
   "metadata": {},
   "outputs": [],
   "source": [
    "class Book:\n",
    "    def __init__(self, title, author, isbn, publication_year, available_copies):\n",
    "        self.title = title\n",
    "        self.author = author\n",
    "        self.isbn = isbn\n",
    "        self.publication_year = publication_year\n",
    "        self.available_copies = available_copies\n",
    "        \n",
    "    def check_out(self):\n",
    "        if self.available_copies > 0:\n",
    "            self.available_copies -= 1\n",
    "            print(\"Book checked out successfully.\")\n",
    "        else:\n",
    "            print(\"No available for checkout\")\n",
    "    \n",
    "    def return_book(self):\n",
    "        self.available_copies += 1\n",
    "        print(\"Book returned successfully.\")\n",
    "        \n",
    "    def display_book_info(self):\n",
    "        print(\"Book Information:\")\n",
    "        print(\"Title:\", self.title)\n",
    "        print(\"Author(s):\", self.author)\n",
    "        print(\"ISBN:\", self.isbn)\n",
    "        print(\"Publication Year:\", self.publication_year)\n",
    "        print(\"Available Copies:\", self.available_copies)\n",
    "        print(f\"{self.title} written by the author {self.author} which was published in the year {self.publication_year} and is represented by {self.isbn} has {self.available_copies} available\")"
   ]
  },
  {
   "cell_type": "code",
   "execution_count": 12,
   "id": "0977cb9c-6439-4bcd-8895-41c5b1cbb675",
   "metadata": {},
   "outputs": [],
   "source": [
    "# Create a book instance\n",
    "book = Book(\"The Art of War\", \"Sun Tzu\", \"9780316769488\", 1951, 3)"
   ]
  },
  {
   "cell_type": "code",
   "execution_count": 13,
   "id": "134cf913-2f4c-4153-a041-046b450c51cb",
   "metadata": {},
   "outputs": [
    {
     "name": "stdout",
     "output_type": "stream",
     "text": [
      "Book Information:\n",
      "Title: The Art of War\n",
      "Author(s): Sun Tzu\n",
      "ISBN: 9780316769488\n",
      "Publication Year: 1951\n",
      "Available Copies: 3\n",
      "The Art of War written by the author Sun Tzu which was published in the year 1951 and is represented by 9780316769488 has 3 available\n"
     ]
    }
   ],
   "source": [
    "# Display book information\n",
    "book.display_book_info()"
   ]
  },
  {
   "cell_type": "code",
   "execution_count": 14,
   "id": "b4ccde4c-beb2-4c06-ae01-e1b2e8bb3fc3",
   "metadata": {},
   "outputs": [
    {
     "name": "stdout",
     "output_type": "stream",
     "text": [
      "Book checked out successfully.\n"
     ]
    }
   ],
   "source": [
    "# Check out a copy\n",
    "book.check_out()"
   ]
  },
  {
   "cell_type": "code",
   "execution_count": 15,
   "id": "89fe3a67-1a7e-436b-95ac-920d327c8322",
   "metadata": {},
   "outputs": [
    {
     "name": "stdout",
     "output_type": "stream",
     "text": [
      "Book Information:\n",
      "Title: The Art of War\n",
      "Author(s): Sun Tzu\n",
      "ISBN: 9780316769488\n",
      "Publication Year: 1951\n",
      "Available Copies: 2\n",
      "The Art of War written by the author Sun Tzu which was published in the year 1951 and is represented by 9780316769488 has 2 available\n"
     ]
    }
   ],
   "source": [
    "# Display book information after checkout\n",
    "book.display_book_info()"
   ]
  },
  {
   "cell_type": "code",
   "execution_count": 16,
   "id": "389c43e2-f030-4720-b8f9-e60e2b8dcae3",
   "metadata": {},
   "outputs": [
    {
     "name": "stdout",
     "output_type": "stream",
     "text": [
      "Book returned successfully.\n"
     ]
    }
   ],
   "source": [
    "# Return the book\n",
    "book.return_book()"
   ]
  },
  {
   "cell_type": "code",
   "execution_count": 17,
   "id": "066c05d5-1d50-4b84-b6a3-7fdc95cf747c",
   "metadata": {},
   "outputs": [
    {
     "name": "stdout",
     "output_type": "stream",
     "text": [
      "Book Information:\n",
      "Title: The Art of War\n",
      "Author(s): Sun Tzu\n",
      "ISBN: 9780316769488\n",
      "Publication Year: 1951\n",
      "Available Copies: 3\n",
      "The Art of War written by the author Sun Tzu which was published in the year 1951 and is represented by 9780316769488 has 3 available\n"
     ]
    }
   ],
   "source": [
    "# Display book information after return\n",
    "book.display_book_info()"
   ]
  },
  {
   "cell_type": "markdown",
   "id": "daf99a7c-90ae-4a57-bb02-cb9d52463294",
   "metadata": {},
   "source": [
    "8. For a ticket booking system, you have to design the \"Ticket\" class with OOP principles in mind.\n",
    "\n",
    "The “Ticket” class should have the following attributes:\n",
    "    \n",
    "a. ticket_id: Represents the unique identifier for the ticket.\n",
    "\n",
    "b. event_name: Represents the name of the event.\n",
    "\n",
    "c. event_date: Represents the date of the event.\n",
    "\n",
    "d. venue: Represents the venue of the event.\n",
    "\n",
    "e. seat_number: Represents the seat number associated with the ticket.\n",
    "\n",
    "f. price: Represents the price of the ticket.\n",
    "\n",
    "g. is_reserved: Represents the reservation status of the ticket.\n",
    "\n",
    "The class also includes the following methods:\n",
    "    \n",
    "a. reserve_ticket(self): Marks the ticket as reserved if it is not already reserved.\n",
    "\n",
    "b. cancel_reservation(self): Cancels the reservation of the ticket if it is already reserved.\n",
    "\n",
    "c. display_ticket_info(self): Displays the information about the ticket, including its attributes and reservation status."
   ]
  },
  {
   "cell_type": "code",
   "execution_count": 1,
   "id": "2c97f361-f26a-48db-b306-3fa044b08001",
   "metadata": {},
   "outputs": [],
   "source": [
    "class Ticket:\n",
    "    def __init__(self, ticket_id, event_name, event_date, venue, seat_number, price):\n",
    "        self.ticket_id = ticket_id\n",
    "        self.event_name = event_name\n",
    "        self.event_date = event_date\n",
    "        self.venue = venue\n",
    "        self.seat_number = seat_number\n",
    "        self.price = price\n",
    "        self.is_reserved = False # Setting is_reserved value as False by default\n",
    "    \n",
    "    def reserve_ticket(self):\n",
    "        if not self.is_reserved:\n",
    "            self.is_reserved = True\n",
    "            print(\"Ticket reserved successfully.\")\n",
    "        else:\n",
    "            print(\"Ticket is already reserved.\")\n",
    "        \n",
    "    def cancel_reservation(self):\n",
    "        if self.is_reserved:\n",
    "            self.is_reserved = False\n",
    "            print(\"Reservation canceled successfully.\")\n",
    "        else:\n",
    "            print(\"Ticket is not reserved.\")\n",
    "\n",
    "    \n",
    "    def display_ticket_info(self):\n",
    "        print(\"Ticket Information:\")\n",
    "        print(\"Ticket ID:\", self.ticket_id)\n",
    "        print(\"Event Name:\", self.event_name)\n",
    "        print(\"Event Date:\", self.event_date)\n",
    "        print(\"Venue:\", self.venue)\n",
    "        print(\"Seat Number:\", self.seat_number)\n",
    "        print(\"Price:\", self.price)\n",
    "        print(\"Reservation Status:\", \"Reserved\" if self.is_reserved else \"Not Reserved\")"
   ]
  },
  {
   "cell_type": "code",
   "execution_count": 2,
   "id": "129eb665-0687-4492-8cb2-a88f4693c390",
   "metadata": {},
   "outputs": [],
   "source": [
    "# Create a ticket instance\n",
    "ticket = Ticket(\"12345\", \"Soal Sunday Event\", \"12-08-2023\", \"Hitex Event Grounds\", \"A5\", 1500.0)"
   ]
  },
  {
   "cell_type": "code",
   "execution_count": 3,
   "id": "6915580e-2990-438f-aeea-f7e89288792b",
   "metadata": {},
   "outputs": [
    {
     "name": "stdout",
     "output_type": "stream",
     "text": [
      "Ticket Information:\n",
      "Ticket ID: 12345\n",
      "Event Name: Soal Sunday Event\n",
      "Event Date: 12-08-2023\n",
      "Venue: Hitex Event Grounds\n",
      "Seat Number: A5\n",
      "Price: 1500.0\n",
      "Reservation Status: Not Reserved\n"
     ]
    }
   ],
   "source": [
    "# Display ticket information\n",
    "ticket.display_ticket_info()"
   ]
  },
  {
   "cell_type": "code",
   "execution_count": 4,
   "id": "142c6c29-fd4f-41c9-9a42-f1625e76b270",
   "metadata": {},
   "outputs": [
    {
     "name": "stdout",
     "output_type": "stream",
     "text": [
      "Ticket reserved successfully.\n"
     ]
    }
   ],
   "source": [
    "# Reserve the ticket\n",
    "ticket.reserve_ticket()"
   ]
  },
  {
   "cell_type": "code",
   "execution_count": 5,
   "id": "fd3bcfcd-c4c7-4892-9060-1ef22789c270",
   "metadata": {},
   "outputs": [
    {
     "name": "stdout",
     "output_type": "stream",
     "text": [
      "Ticket Information:\n",
      "Ticket ID: 12345\n",
      "Event Name: Soal Sunday Event\n",
      "Event Date: 12-08-2023\n",
      "Venue: Hitex Event Grounds\n",
      "Seat Number: A5\n",
      "Price: 1500.0\n",
      "Reservation Status: Reserved\n"
     ]
    }
   ],
   "source": [
    "# Display ticket information after reservation\n",
    "ticket.display_ticket_info()"
   ]
  },
  {
   "cell_type": "code",
   "execution_count": 6,
   "id": "9211ba2e-b080-4cfa-be82-b3881240ae37",
   "metadata": {},
   "outputs": [
    {
     "name": "stdout",
     "output_type": "stream",
     "text": [
      "Reservation canceled successfully.\n"
     ]
    }
   ],
   "source": [
    "# Cancel the reservation\n",
    "ticket.cancel_reservation()"
   ]
  },
  {
   "cell_type": "code",
   "execution_count": 7,
   "id": "d2ae10f4-14ed-4379-9a6f-a05b3c14aac2",
   "metadata": {},
   "outputs": [
    {
     "name": "stdout",
     "output_type": "stream",
     "text": [
      "Ticket Information:\n",
      "Ticket ID: 12345\n",
      "Event Name: Soal Sunday Event\n",
      "Event Date: 12-08-2023\n",
      "Venue: Hitex Event Grounds\n",
      "Seat Number: A5\n",
      "Price: 1500.0\n",
      "Reservation Status: Not Reserved\n"
     ]
    }
   ],
   "source": [
    "# Display ticket information after cancellation\n",
    "ticket.display_ticket_info()"
   ]
  },
  {
   "cell_type": "markdown",
   "id": "50d6c9a3-7ac2-4a3c-b5b2-dc2b7ac254f1",
   "metadata": {},
   "source": [
    "9. You are creating a shopping cart for an e-commerce website. Using OOP to model the \"ShoppingCart\" functionality the class should contain following attributes and methods:\n",
    "\n",
    "a. items: Represents the list of items in the shopping cart.\n",
    "\n",
    "The class also includes the following methods:\n",
    "\n",
    "a. add_item(self, item): Adds an item to the shopping cart by appending it to the list of items.\n",
    "\n",
    "b. remove_item(self, item): Removes an item from the shopping cart if it exists in the list.\n",
    "\n",
    "c. view_cart(self): Displays the items currently present in the shopping cart.\n",
    "\n",
    "d. clear_cart(self): Clears all items from the shopping cart by reassigning an empty list to the items attribute."
   ]
  },
  {
   "cell_type": "code",
   "execution_count": 8,
   "id": "8fb99e2d-9a78-46bd-9cee-724f4eec7912",
   "metadata": {},
   "outputs": [],
   "source": [
    "class ShoppingCart:\n",
    "    def __init__(self):\n",
    "        self.items = []\n",
    "        \n",
    "    def remove_item(self, item):\n",
    "        if item in self.items:\n",
    "            self.items.remove(item)\n",
    "            print(\"Item removed from the shopping cart\")\n",
    "        else:\n",
    "            print(\"Item not found in the shopping cart\")\n",
    "    \n",
    "    def add_item(self, item):\n",
    "        self.items.append(item)\n",
    "        print(\"Item added to the shopping cart\")\n",
    "        \n",
    "    def view_cart(self):\n",
    "        if self.items:\n",
    "            print(\"Items in the shopping cart: \")\n",
    "            for item in self.items:\n",
    "                print(\"->\" + item)\n",
    "        else:\n",
    "            print(\"The shopping cart is empty.\")\n",
    "    \n",
    "    def clear_cart(self):\n",
    "        self.items = []\n",
    "        print(\"Shopping cart cleared\")"
   ]
  },
  {
   "cell_type": "code",
   "execution_count": 9,
   "id": "eadcd2bc-7f6f-4da9-bb15-eac54c0e36a6",
   "metadata": {},
   "outputs": [],
   "source": [
    "# Create a shopping cart instance\n",
    "cart = ShoppingCart()"
   ]
  },
  {
   "cell_type": "code",
   "execution_count": 10,
   "id": "1a987894-8ba6-4a01-a5a8-e365ca71efe6",
   "metadata": {},
   "outputs": [
    {
     "name": "stdout",
     "output_type": "stream",
     "text": [
      "Item added to the shopping cart\n",
      "Item added to the shopping cart\n",
      "Item added to the shopping cart\n"
     ]
    }
   ],
   "source": [
    "# Add items to the shopping cart\n",
    "cart.add_item(\"Book\")\n",
    "cart.add_item(\"Shoes\")\n",
    "cart.add_item(\"Phone\")"
   ]
  },
  {
   "cell_type": "code",
   "execution_count": 11,
   "id": "cc31bbb1-9f55-44dc-baba-dc71b9709983",
   "metadata": {},
   "outputs": [
    {
     "name": "stdout",
     "output_type": "stream",
     "text": [
      "Items in the shopping cart: \n",
      "->Book\n",
      "->Shoes\n",
      "->Phone\n"
     ]
    }
   ],
   "source": [
    "# View the shopping cart\n",
    "cart.view_cart()"
   ]
  },
  {
   "cell_type": "code",
   "execution_count": 12,
   "id": "2d59bc7b-5526-4ff2-ab57-1058c86b6f1e",
   "metadata": {},
   "outputs": [
    {
     "name": "stdout",
     "output_type": "stream",
     "text": [
      "Item removed from the shopping cart\n"
     ]
    }
   ],
   "source": [
    "# Remove an item from the shopping cart\n",
    "cart.remove_item(\"Shoes\")"
   ]
  },
  {
   "cell_type": "code",
   "execution_count": 13,
   "id": "ff46fb3b-27df-4545-98dc-25535b57be0c",
   "metadata": {},
   "outputs": [
    {
     "name": "stdout",
     "output_type": "stream",
     "text": [
      "Items in the shopping cart: \n",
      "->Book\n",
      "->Phone\n"
     ]
    }
   ],
   "source": [
    "# View the shopping cart after removal\n",
    "cart.view_cart()"
   ]
  },
  {
   "cell_type": "code",
   "execution_count": 14,
   "id": "63ff0f56-4076-4c3b-bb81-21aa5f1ff18e",
   "metadata": {},
   "outputs": [
    {
     "name": "stdout",
     "output_type": "stream",
     "text": [
      "Shopping cart cleared\n"
     ]
    }
   ],
   "source": [
    "# Clear the shopping cart\n",
    "cart.clear_cart()"
   ]
  },
  {
   "cell_type": "code",
   "execution_count": 15,
   "id": "fbe11e1b-989d-4e90-b89c-fd96bd9795c8",
   "metadata": {},
   "outputs": [
    {
     "name": "stdout",
     "output_type": "stream",
     "text": [
      "The shopping cart is empty.\n"
     ]
    }
   ],
   "source": [
    "# View the shopping cart after clearing\n",
    "cart.view_cart()"
   ]
  },
  {
   "cell_type": "markdown",
   "id": "ff681c3c-9ca5-4a3d-8c0f-56d40eb6182f",
   "metadata": {},
   "source": [
    "10. Imagine a school management system. You have to design the \"Student\" class using OOP concepts.The “Student” class has the following attributes:\n",
    "\n",
    "a. name: Represents the name of the student.\n",
    "\n",
    "b. age: Represents the age of the student.\n",
    "\n",
    "c. grade: Represents the grade or class of the student.\n",
    "\n",
    "d. student_id: Represents the unique identifier for the student.\n",
    "\n",
    "e. attendance: Represents the attendance record of the student.\n",
    "\n",
    "The class should also include the following methods:\n",
    "\n",
    "a. update_attendance(self, date, status): Updates the attendance record of the student for a given date with the provided status (e.g., present or absent).\n",
    "\n",
    "b. get_attendance(self): Returns the attendance record of the student.\n",
    "\n",
    "c. get_average_attendance(self): Calculates and returns the average attendance percentage of the student based on their attendance record."
   ]
  },
  {
   "cell_type": "code",
   "execution_count": 23,
   "id": "369e7fe1-a339-4b55-a3e2-ada5d4a1fb41",
   "metadata": {},
   "outputs": [],
   "source": [
    "class Student:\n",
    "    def __init__(self, name, age, grade, student_id):\n",
    "        self.name = name\n",
    "        self.age = age\n",
    "        self.grade = grade\n",
    "        self.student_id = student_id\n",
    "        self.attendance = {}\n",
    "        \n",
    "    def update_attendance(self, date, status):\n",
    "        self.attendance[date] = status\n",
    "        print(\"Attendance updated.\")\n",
    "        \n",
    "    def get_attendance(self):\n",
    "        return self.attendance\n",
    "    \n",
    "    def get_average_attendance(self):\n",
    "        total_days = len(self.attendance)\n",
    "        if total_days == 0:\n",
    "            return 0.0\n",
    "        \n",
    "        present_days = sum(status == \"present\" for status in self.attendance.values())\n",
    "        attendance_percentage = (present_days / total_days) * 100\n",
    "        return attendance_percentage"
   ]
  },
  {
   "cell_type": "code",
   "execution_count": 24,
   "id": "df3cc2ab-b812-444d-b0bc-1b043796f6c1",
   "metadata": {},
   "outputs": [],
   "source": [
    "# Create a student instance\n",
    "student = Student(\"Rohan\", 16, \"10th Grade\", \"170A\")"
   ]
  },
  {
   "cell_type": "code",
   "execution_count": 25,
   "id": "1aaa19f2-3a34-4ee2-966f-b04b8389677f",
   "metadata": {},
   "outputs": [
    {
     "name": "stdout",
     "output_type": "stream",
     "text": [
      "Attendance updated.\n",
      "Attendance updated.\n",
      "Attendance updated.\n"
     ]
    }
   ],
   "source": [
    "# Update attendance\n",
    "student.update_attendance(\"2023-07-01\", \"present\")\n",
    "student.update_attendance(\"2023-07-02\", \"absent\")\n",
    "student.update_attendance(\"2023-07-03\", \"present\")"
   ]
  },
  {
   "cell_type": "code",
   "execution_count": 26,
   "id": "7b930caf-0cd3-4b07-bedb-e1bc40b329ea",
   "metadata": {},
   "outputs": [
    {
     "name": "stdout",
     "output_type": "stream",
     "text": [
      "Attendance Record: {'2023-07-01': 'present', '2023-07-02': 'absent', '2023-07-03': 'present'}\n"
     ]
    }
   ],
   "source": [
    "# Get attendance record\n",
    "attendance_record = student.get_attendance()\n",
    "print(\"Attendance Record:\", attendance_record)"
   ]
  },
  {
   "cell_type": "code",
   "execution_count": 27,
   "id": "b20f59ab-218e-474f-946b-7918191c6215",
   "metadata": {},
   "outputs": [
    {
     "name": "stdout",
     "output_type": "stream",
     "text": [
      "Average Attendance: 66.66666666666666\n"
     ]
    }
   ],
   "source": [
    "# Get average attendance\n",
    "average_attendance = student.get_average_attendance()\n",
    "print(\"Average Attendance:\", average_attendance)"
   ]
  }
 ],
 "metadata": {
  "kernelspec": {
   "display_name": "Python 3 (ipykernel)",
   "language": "python",
   "name": "python3"
  },
  "language_info": {
   "codemirror_mode": {
    "name": "ipython",
    "version": 3
   },
   "file_extension": ".py",
   "mimetype": "text/x-python",
   "name": "python",
   "nbconvert_exporter": "python",
   "pygments_lexer": "ipython3",
   "version": "3.10.6"
  }
 },
 "nbformat": 4,
 "nbformat_minor": 5
}
