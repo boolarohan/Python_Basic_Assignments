{
 "cells": [
  {
   "cell_type": "markdown",
   "id": "89f757d4-81cc-4190-8040-2cbeec6eb775",
   "metadata": {},
   "source": [
    "# Q.1. Create two int type variables, apply addition, subtraction, division and multiplications\n",
    "# and store the results in variables. Then print the data in the following format by calling the\n",
    "# variables:\n",
    "# First variable is __ & second variable is __.\n",
    "# Addition: __ + __ = __\n",
    "# Subtraction: __ - __ = __\n",
    "# Multiplication: __ * __ = __\n",
    "# Division: __ / __ = __"
   ]
  },
  {
   "cell_type": "code",
   "execution_count": 3,
   "id": "9b860b1d-559f-465b-8d24-8588cba5522a",
   "metadata": {},
   "outputs": [
    {
     "name": "stdout",
     "output_type": "stream",
     "text": [
      "First variable is 10 & second variable is 2.\n",
      "Addition: 10 + 2 = 12\n",
      "Subtraction: 10 - 2 = 8\n",
      "Multiplication: 10 * 2 = 20\n",
      "Division: 10 / 2 = 5.0\n"
     ]
    }
   ],
   "source": [
    "a = 10\n",
    "b = 2\n",
    "add = a + b\n",
    "sub = a - b\n",
    "mul = a * b\n",
    "div = a / b\n",
    "\n",
    "print(f\"First variable is {a} & second variable is {b}.\\nAddition: {a} + {b} = {add}\\nSubtraction: {a} - {b} = {sub}\\nMultiplication: {a} * {b} = {mul}\\nDivision: {a} / {b} = {div}\")"
   ]
  },
  {
   "cell_type": "markdown",
   "id": "10b38905-db8f-4c74-8b94-358d3bc947c3",
   "metadata": {},
   "source": [
    "# Q.2. What is the difference between the following operators:\n",
    "# (i) ‘/’ & ‘//’\n",
    "# (ii) ‘**’ & ‘^’\n",
    "\n",
    "# Ans. Both the operators '/' and '//' are used for division in Pyhon but they behave differently:\n",
    "# (i)The '/' operator performs normal division and returns a float value. For example, if you divide 9 by 4 using '/', the result would be 2.25.\n",
    "# The '//' operator is used for floor division and returns the largest integer less than or equal to the quotient. For example, if you divide 9 by 4 using '//', the result would be 2. This operator discards the decimal part and always returns an integer."
   ]
  },
  {
   "cell_type": "code",
   "execution_count": 7,
   "id": "fb9314e2-a707-4d36-a88e-780b95c23f8b",
   "metadata": {},
   "outputs": [
    {
     "name": "stdout",
     "output_type": "stream",
     "text": [
      "2.25\n",
      "2\n"
     ]
    }
   ],
   "source": [
    "# Examples\n",
    "print(9 / 4) # Output: 2.25\n",
    "print(9 // 4) # Output: 2"
   ]
  },
  {
   "cell_type": "markdown",
   "id": "78a1f33e-01e0-478a-889b-c28db3525e92",
   "metadata": {},
   "source": [
    "# (ii)The '**' and '^' operators are used for exponentiation in Python.\n",
    "# The '**' operator is the exponentiation operator and is used to raise a number to a power. For example, 4 ** 2 would be equal to 4 raised to the power of 2, resulting in 16."
   ]
  },
  {
   "cell_type": "code",
   "execution_count": 8,
   "id": "e0819832-6cdc-4062-b157-43e826f7e8e9",
   "metadata": {},
   "outputs": [
    {
     "name": "stdout",
     "output_type": "stream",
     "text": [
      "16\n",
      "6\n"
     ]
    }
   ],
   "source": [
    "print(4 ** 2)  # Output: 8\n",
    "print(4 ^ 2)   # Output: 1 (bitwise XOR of 2 and 3)"
   ]
  },
  {
   "cell_type": "markdown",
   "id": "12ace1ee-269f-43a3-af14-77cd5ec17e26",
   "metadata": {},
   "source": [
    "# Q.3. List the logical operators.\n",
    "\n",
    "# Ans. Logical AND: represented by the keyword and. It returns True if both operands are True, otherwise it returns False.\n",
    "# Example: True and False evaluates to False.\n",
    "\n",
    "# Logical OR: represented by the keyword or. It returns True if at least one of the operands is True, otherwise it returns False.\n",
    "# Example: True or False evaluates to True.\n",
    "\n",
    "# Logical NOT: represented by the keyword not. It negates the truth value of the operand. If the operand is True, it returns False, and if the operand is False, it returns True."
   ]
  },
  {
   "cell_type": "code",
   "execution_count": 9,
   "id": "f9ab4132-8b23-474c-bd7c-b9e27fb8c7d2",
   "metadata": {},
   "outputs": [
    {
     "name": "stdout",
     "output_type": "stream",
     "text": [
      "NO\n",
      "Not eligible for discount\n",
      "He is a student\n"
     ]
    }
   ],
   "source": [
    "# Example for Logical AND operator:\n",
    "\n",
    "a = 3\n",
    "b = 9\n",
    "c = 5\n",
    "\n",
    "# Check if a is greater than 0 and b is less than c\n",
    "if a > 2 and b < c:\n",
    "    print(\"YES\")\n",
    "else:\n",
    "    print(\"NO\")\n",
    "\n",
    "# Example for Logical OR operator:\n",
    "\n",
    "age = 25\n",
    "# Check if the age is either less than 18 or greater than 65 to check eligibility for discount.\n",
    "if age < 18 or age > 65:\n",
    "    print(\"Eligible for discount\")\n",
    "else:\n",
    "    print(\"Not eligible for discount\")\n",
    "\n",
    "# Example for Logical NOT operator:\n",
    "\n",
    "is_student = True\n",
    "# Check if the persion is not student:\n",
    "if not is_student:\n",
    "    print(\"Not a student\")\n",
    "else:\n",
    "    print(\"He is a student\")\n"
   ]
  },
  {
   "cell_type": "markdown",
   "id": "79507c81-c96f-4e36-8929-b0976644ec35",
   "metadata": {},
   "source": [
    "# Q.4. Explain right shift operator and left shift operator with examples.\n",
    "\n",
    "# Ans. The right shift(\">>\") and left shift(\"<\") operators are used to perform bitwise shifts in Python on integer values. The binary representation of the numbers are manipulated by shifting\n",
    "# the bits to right or left.\n",
    "\n",
    "# Right Shift (\">>\"): The rigth shift operator moves the bits of a number towards teh right by specified number of positons.\n",
    "\n",
    "# Left Shift (\"<<\"): The left shift operator (\"<<\") moves the bits of a number towards the left by a specified number of positions."
   ]
  },
  {
   "cell_type": "code",
   "execution_count": 6,
   "id": "b0fda3a7-35c9-4bea-beed-8cd81a89713a",
   "metadata": {},
   "outputs": [
    {
     "name": "stdout",
     "output_type": "stream",
     "text": [
      "2\n",
      "6\n",
      "12\n",
      "40\n"
     ]
    }
   ],
   "source": [
    "#Example of right shift operator:\n",
    "# Binary value of 10: 1010\n",
    "# Right shift the number by 2 positions binary value becomes: 10\n",
    "# Now decimal value of binary 10: 2 (which is the Output)\n",
    "print(10 >> 2)\n",
    "# Binary value of 24: 11000\n",
    "# Right shift the number by 2 positions binary value becomes: 110\n",
    "# Now decimal value of binary 110: 6 (which is the Output)\n",
    "print(24 >> 2)\n",
    "\n",
    "#Example of left shift operator:\n",
    "# Binary value of 3: 11\n",
    "# Left shift the number by 2 positions binary value becomes: 1100\n",
    "# Now decimal value of binary 1100: 12 (which is the Output)\n",
    "print(3 << 2)\n",
    "# Binary value of 5: 101\n",
    "# Left shift the number by 2 positions binary value becomes: 101000\n",
    "# Now decimal value of binary 101000: 40 (which is the Output)\n",
    "print(5 << 3)"
   ]
  },
  {
   "cell_type": "markdown",
   "id": "62e8026a-ce64-4d39-a5d6-cd010fc81c19",
   "metadata": {},
   "source": [
    "# Q.5. Create a list containing int type data of length 15. Then write a code to check if 10 is\n",
    "# present in the list or not."
   ]
  },
  {
   "cell_type": "code",
   "execution_count": 1,
   "id": "924b7472-4ee7-4c94-ab94-a4edc26aa707",
   "metadata": {},
   "outputs": [
    {
     "name": "stdout",
     "output_type": "stream",
     "text": [
      "10 is present in the list\n"
     ]
    }
   ],
   "source": [
    "# Create a list of integers of length 15\n",
    "lst = [15, 2, 9, 14, 6, 10, 1, 7, 12, 4, 8, 13, 5, 3, 11]\n",
    "\n",
    "# Checking if the integer 10 is present in the list\n",
    "if 10 in lst:\n",
    "    print(\"10 is present in the list\")\n",
    "else:\n",
    "    print(\"10 is not present in the list\")"
   ]
  }
 ],
 "metadata": {
  "kernelspec": {
   "display_name": "Python 3 (ipykernel)",
   "language": "python",
   "name": "python3"
  },
  "language_info": {
   "codemirror_mode": {
    "name": "ipython",
    "version": 3
   },
   "file_extension": ".py",
   "mimetype": "text/x-python",
   "name": "python",
   "nbconvert_exporter": "python",
   "pygments_lexer": "ipython3",
   "version": "3.10.6"
  }
 },
 "nbformat": 4,
 "nbformat_minor": 5
}
